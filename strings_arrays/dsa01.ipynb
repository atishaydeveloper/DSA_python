{
 "cells": [
  {
   "cell_type": "code",
   "execution_count": 1,
   "metadata": {},
   "outputs": [],
   "source": [
    "import array"
   ]
  },
  {
   "cell_type": "code",
   "execution_count": 2,
   "metadata": {},
   "outputs": [
    {
     "name": "stdout",
     "output_type": "stream",
     "text": [
      "Integer Array: [1, 2, 3, 4, 5]\n"
     ]
    }
   ],
   "source": [
    "arr_int = array.array('i',[1,2,3,4,5])\n",
    "print(\"Integer Array:\", arr_int.tolist())"
   ]
  },
  {
   "cell_type": "code",
   "execution_count": 3,
   "metadata": {},
   "outputs": [
    {
     "name": "stdout",
     "output_type": "stream",
     "text": [
      "Character Array: ['a', 'b', 'c']\n"
     ]
    }
   ],
   "source": [
    "arr_char = list('abc')\n",
    "print(\"Character Array:\",arr_char)"
   ]
  },
  {
   "cell_type": "code",
   "execution_count": 4,
   "metadata": {},
   "outputs": [
    {
     "name": "stdout",
     "output_type": "stream",
     "text": [
      "Float Array: [1.0, 2.5, 6.400000095367432, 3.4000000953674316, 5.400000095367432]\n"
     ]
    }
   ],
   "source": [
    "arr_float = array.array('f',[1.0,2.5,6.4,3.4,5.4])\n",
    "print(\"Float Array:\",arr_float.tolist())"
   ]
  },
  {
   "cell_type": "markdown",
   "metadata": {},
   "source": [
    "## Initialization of an array"
   ]
  },
  {
   "cell_type": "code",
   "execution_count": 5,
   "metadata": {},
   "outputs": [],
   "source": [
    "arr = array.array('i',[])\n",
    "arr = array.array('b',[])\n",
    "arr = array.array('f',[])"
   ]
  },
  {
   "cell_type": "code",
   "execution_count": null,
   "metadata": {},
   "outputs": [],
   "source": [
    "# static array\n",
    "arr = array.array('i',[1,2,3,4,5])\n",
    "# dynamic array\n",
    "arr = []\n"
   ]
  },
  {
   "cell_type": "markdown",
   "metadata": {},
   "source": [
    "### Traversing "
   ]
  },
  {
   "cell_type": "code",
   "execution_count": 6,
   "metadata": {},
   "outputs": [
    {
     "name": "stdout",
     "output_type": "stream",
     "text": [
      "1 2 3 4 5 "
     ]
    }
   ],
   "source": [
    "arr = array.array('i',[1,2,3,4,5])\n",
    "for i in arr:\n",
    "    print(i,end=\" \")"
   ]
  },
  {
   "cell_type": "markdown",
   "metadata": {},
   "source": [
    "### Insertion"
   ]
  },
  {
   "cell_type": "code",
   "execution_count": 7,
   "metadata": {},
   "outputs": [
    {
     "name": "stdout",
     "output_type": "stream",
     "text": [
      "[1, 2, 10, 3, 4, 5]\n"
     ]
    }
   ],
   "source": [
    "def insertElement(arr,x,pos):\n",
    "    n = len(arr)\n",
    "    if pos<0 or pos>n:\n",
    "        raise IndexError('Position out of range')\n",
    "    \n",
    "    new_arr = array.array(arr.typecode, [0]*(n+1))\n",
    "    \n",
    "    for i in range(pos):\n",
    "        new_arr[i] = arr[i]\n",
    "        \n",
    "    new_arr[pos] = x\n",
    "    for i in range(pos,n):\n",
    "        new_arr[i+1] = arr[i]\n",
    "        \n",
    "    return new_arr\n",
    "\n",
    "# Test the function\n",
    "arr = array.array('i', [1, 2, 3, 4,5])\n",
    "x = 10\n",
    "pos = 2\n",
    "\n",
    "arr = insertElement(arr,x,pos)\n",
    "print(arr.tolist())"
   ]
  },
  {
   "cell_type": "markdown",
   "metadata": {},
   "source": [
    "### deletion"
   ]
  },
  {
   "cell_type": "code",
   "execution_count": 11,
   "metadata": {},
   "outputs": [
    {
     "name": "stdout",
     "output_type": "stream",
     "text": [
      "[1, 2, 4, 5]\n"
     ]
    }
   ],
   "source": [
    "def findElement(arr,key):\n",
    "    for i in range(len(arr)):\n",
    "        if arr[i] == key:\n",
    "            return i\n",
    "    return -1\n",
    "\n",
    "def deleteElement(arr,key):\n",
    "    pos  = findElement(arr,key)\n",
    "    if pos == -1:\n",
    "        print(\"Element not found\")\n",
    "        return arr\n",
    "    \n",
    "    new_arr = array.array(arr.typecode, [0]*(len(arr)-1))\n",
    "    for i in range(pos):\n",
    "        new_arr[i] = arr[i]\n",
    "    for i in range(pos+1,len(arr)):\n",
    "        new_arr[i-1] = arr[i]\n",
    "        \n",
    "    return new_arr\n",
    "\n",
    "arr = array.array('i',[1,2,3,4,5])\n",
    "key_to_delete = 3\n",
    "print(deleteElement(arr,key_to_delete).tolist()) "
   ]
  },
  {
   "cell_type": "markdown",
   "metadata": {},
   "source": [
    "### searching "
   ]
  },
  {
   "cell_type": "code",
   "execution_count": 20,
   "metadata": {},
   "outputs": [
    {
     "name": "stdout",
     "output_type": "stream",
     "text": [
      "the element is present at position number 5 in the array [1, 2, 3, 4, 5, 6]\n"
     ]
    }
   ],
   "source": [
    "def findElement(arr,key):\n",
    "    for i in range(len(arr)):\n",
    "        if arr[i] == key:\n",
    "            return i\n",
    "    return -1    \n",
    "\n",
    "arr = array.array('i',[1,2,3,4,5,6])\n",
    "key = 4\n",
    "\n",
    "\n",
    "ans = findElement(arr,key)\n",
    "\n",
    "if ans == -1:\n",
    "    print(\"Element not found\")\n",
    "else:\n",
    "    print(f\"the element is present at position number {i} in the array {arr.tolist()}\")"
   ]
  },
  {
   "cell_type": "code",
   "execution_count": null,
   "metadata": {},
   "outputs": [],
   "source": []
  }
 ],
 "metadata": {
  "kernelspec": {
   "display_name": "myenv",
   "language": "python",
   "name": "python3"
  },
  "language_info": {
   "codemirror_mode": {
    "name": "ipython",
    "version": 3
   },
   "file_extension": ".py",
   "mimetype": "text/x-python",
   "name": "python",
   "nbconvert_exporter": "python",
   "pygments_lexer": "ipython3",
   "version": "3.10.14"
  }
 },
 "nbformat": 4,
 "nbformat_minor": 2
}
