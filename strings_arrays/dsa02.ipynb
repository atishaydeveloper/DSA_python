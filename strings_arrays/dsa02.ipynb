{
 "cells": [
  {
   "cell_type": "markdown",
   "metadata": {},
   "source": [
    "## Strings"
   ]
  },
  {
   "cell_type": "code",
   "execution_count": 1,
   "metadata": {},
   "outputs": [
    {
     "name": "stdout",
     "output_type": "stream",
     "text": [
      "Welcome to the DSA world\n"
     ]
    }
   ],
   "source": [
    "strings1 = \"Welcome to the DSA world\"\n",
    "print(strings1)"
   ]
  },
  {
   "cell_type": "code",
   "execution_count": 2,
   "metadata": {},
   "outputs": [
    {
     "name": "stdout",
     "output_type": "stream",
     "text": [
      "this is \n",
      "a multiline \n",
      "string\n"
     ]
    }
   ],
   "source": [
    "strings2 = '''this is \n",
    "a multiline \n",
    "string'''\n",
    "print(strings2)"
   ]
  },
  {
   "cell_type": "markdown",
   "metadata": {},
   "source": [
    "### Concatenation "
   ]
  },
  {
   "cell_type": "code",
   "execution_count": 10,
   "metadata": {},
   "outputs": [
    {
     "name": "stdout",
     "output_type": "stream",
     "text": [
      "is this a concatenation problem? yes it is !!\n"
     ]
    }
   ],
   "source": [
    "str1 = 'is this a concatenation problem?'\n",
    "str2 = ' yes it is !!'\n",
    "\n",
    "len1 = len(str1)\n",
    "len2  = len(str2)\n",
    "str3 = []\n",
    "i = 0 \n",
    "while i < len1:\n",
    "    str3.append(str1[i])\n",
    "    i+=1\n",
    "    \n",
    "j = 0\n",
    "while i < (len1+len2):\n",
    "    str3.append(str2[j])\n",
    "    j+=1\n",
    "    i+=1\n",
    "    \n",
    "str3 = ''.join(str3)\n",
    "print(str3)    "
   ]
  },
  {
   "cell_type": "markdown",
   "metadata": {},
   "source": [
    "### Inbuilt function "
   ]
  },
  {
   "cell_type": "code",
   "execution_count": 13,
   "metadata": {},
   "outputs": [
    {
     "name": "stdout",
     "output_type": "stream",
     "text": [
      "hello world\n"
     ]
    }
   ],
   "source": [
    "# using + operator\n",
    "var1  = \"hello \"\n",
    "var2 = \"world\"\n",
    "var3 = var1 + var2\n",
    "print(var3)"
   ]
  },
  {
   "cell_type": "code",
   "execution_count": 14,
   "metadata": {},
   "outputs": [
    {
     "name": "stdout",
     "output_type": "stream",
     "text": [
      "DSA withPython\n",
      "DSA with Python\n"
     ]
    }
   ],
   "source": [
    "# usng join function \n",
    "var1 = 'DSA with'\n",
    "var2 = 'Python'\n",
    "print(\"\".join([var1,var2]))\n",
    "\n",
    "var3 = \" \".join([var1,var2])\n",
    "print(var3)"
   ]
  },
  {
   "cell_type": "code",
   "execution_count": 15,
   "metadata": {},
   "outputs": [
    {
     "name": "stdout",
     "output_type": "stream",
     "text": [
      "DSA with Python\n"
     ]
    }
   ],
   "source": [
    "# using % operator \n",
    "var1 = 'DSA with'\n",
    "var2 = 'Python'\n",
    "\n",
    "print(\"% s % s\" % (var1,var2))"
   ]
  },
  {
   "cell_type": "code",
   "execution_count": 16,
   "metadata": {},
   "outputs": [
    {
     "name": "stdout",
     "output_type": "stream",
     "text": [
      "DSA with python\n"
     ]
    }
   ],
   "source": [
    "# using , comma\n",
    "var1 = 'DSA'\n",
    "var2 = 'with'\n",
    "var3 = 'python'\n",
    "print(var1,var2,var3)"
   ]
  },
  {
   "cell_type": "code",
   "execution_count": 17,
   "metadata": {},
   "outputs": [
    {
     "name": "stdout",
     "output_type": "stream",
     "text": [
      "hello, my name is atishay and i am 20 years old.\n"
     ]
    }
   ],
   "source": [
    "# using f-string \n",
    "name = 'atishay'\n",
    "age = 20\n",
    "\n",
    "greeting = f'hello, my name is {name} and i am {age} years old.'\n",
    "print(greeting)"
   ]
  },
  {
   "cell_type": "markdown",
   "metadata": {},
   "source": [
    "## Find in string "
   ]
  },
  {
   "cell_type": "code",
   "execution_count": 18,
   "metadata": {},
   "outputs": [
    {
     "name": "stdout",
     "output_type": "stream",
     "text": [
      "Element found\n"
     ]
    }
   ],
   "source": [
    "# character in string \n",
    "var1 = \"this is a python language\"\n",
    "def findElem(var1,key):\n",
    "    for i in var1:\n",
    "        if i == key:\n",
    "            return i\n",
    "    return -1\n",
    "key = 'p'\n",
    "fe = findElem(var1,key)\n",
    "if fe == -1:\n",
    "    print(\"Element not found\")\n",
    "else:\n",
    "    print(\"Element found\")"
   ]
  },
  {
   "cell_type": "code",
   "execution_count": 21,
   "metadata": {},
   "outputs": [
    {
     "name": "stdout",
     "output_type": "stream",
     "text": [
      "a is at 8 index of the string\n"
     ]
    }
   ],
   "source": [
    "# built in function\n",
    "var1 = \"this is atishay jain\"\n",
    "x = var1.find('a')\n",
    "print(f\"{var1[x]} is at {x} index of the string\")"
   ]
  },
  {
   "cell_type": "code",
   "execution_count": 27,
   "metadata": {},
   "outputs": [
    {
     "name": "stdout",
     "output_type": "stream",
     "text": [
      "Substring found at index 4, ends at 8\n"
     ]
    }
   ],
   "source": [
    "#substring in a string \n",
    "def findSubstring(s1,s2):\n",
    "    M = len(s1)\n",
    "    N = len(s2)\n",
    "    for i in range(N-M+1):\n",
    "        j=0\n",
    "        while j<M and s2[i+j] == s1[j]:\n",
    "            j+=1\n",
    "        if j == M:\n",
    "            x = i+M-1\n",
    "            return i\n",
    "    return -1\n",
    "\n",
    "s1 = 'with'\n",
    "s2 = 'DSA with Python'\n",
    "result = findSubstring(s1,s2)\n",
    "if result != -1:\n",
    "    print(f\"Substring found at index {str(result)}, ends at {x}\")\n",
    "else:\n",
    "    print(-1)"
   ]
  },
  {
   "cell_type": "code",
   "execution_count": 25,
   "metadata": {},
   "outputs": [
    {
     "name": "stdout",
     "output_type": "stream",
     "text": [
      "4\n"
     ]
    }
   ],
   "source": [
    "# built in function for substring in string \n",
    "def findSubstring(s1,s2):\n",
    "    found = s2.find(s1)\n",
    "    return found if found != -1 else -1\n",
    "\n",
    "s1 = 'with'\n",
    "s2 = 'DSA with python'\n",
    "result = findSubstring(s1,s2)\n",
    "if result != -1:\n",
    "    print(result)\n",
    "else:\n",
    "    print(-1)\n",
    "    "
   ]
  },
  {
   "cell_type": "markdown",
   "metadata": {},
   "source": [
    "## replace in a string \n"
   ]
  },
  {
   "cell_type": "code",
   "execution_count": 31,
   "metadata": {},
   "outputs": [
    {
     "name": "stdout",
     "output_type": "stream",
     "text": [
      "DSA for python\n"
     ]
    }
   ],
   "source": [
    "# built in method \n",
    "s1 = 'with'\n",
    "s2 = 'DSA with python'\n",
    "s3 = 'for'\n",
    "s = s2.replace(s1,s3)\n",
    "print(s)"
   ]
  },
  {
   "cell_type": "markdown",
   "metadata": {},
   "source": [
    "## length of a string "
   ]
  },
  {
   "cell_type": "code",
   "execution_count": 32,
   "metadata": {},
   "outputs": [
    {
     "name": "stdout",
     "output_type": "stream",
     "text": [
      "7\n"
     ]
    }
   ],
   "source": [
    "# built in function \n",
    "str = \"atishay\"\n",
    "print(len(str))"
   ]
  },
  {
   "cell_type": "code",
   "execution_count": 33,
   "metadata": {},
   "outputs": [
    {
     "name": "stdout",
     "output_type": "stream",
     "text": [
      "7\n"
     ]
    }
   ],
   "source": [
    "# using custom function \n",
    "def length(str):\n",
    "    count = 0\n",
    "    for i in str:\n",
    "        count += 1\n",
    "    return count\n",
    "\n",
    "str ='atishay'\n",
    "print(length(str))"
   ]
  },
  {
   "cell_type": "markdown",
   "metadata": {},
   "source": [
    "## trim a string "
   ]
  },
  {
   "cell_type": "code",
   "execution_count": 49,
   "metadata": {},
   "outputs": [
    {
     "name": "stdout",
     "output_type": "stream",
     "text": [
      "thisisapythonlanguage\n"
     ]
    }
   ],
   "source": [
    "s = \"this i  s a pyt  hon langu a ge\"\n",
    "new_s =[]\n",
    "for i in range(len(s)):\n",
    "    if s[i] != \" \":\n",
    "        new_s.append(s[i])\n",
    "        \n",
    "print(\"\".join(new_s))\n",
    "        \n",
    "    "
   ]
  },
  {
   "cell_type": "code",
   "execution_count": 6,
   "metadata": {},
   "outputs": [
    {
     "name": "stdout",
     "output_type": "stream",
     "text": [
      "thisain'tajoke\n"
     ]
    }
   ],
   "source": [
    "# another method\n",
    "def removespace(s):\n",
    "    s = s.replace(\" \",\"\")\n",
    "    return s\n",
    "\n",
    "s = \"thi s ain' t a jo ke\"\n",
    "print(removespace(s))"
   ]
  },
  {
   "cell_type": "markdown",
   "metadata": {},
   "source": [
    "## Rotation of a string "
   ]
  },
  {
   "cell_type": "code",
   "execution_count": 1,
   "metadata": {},
   "outputs": [
    {
     "name": "stdout",
     "output_type": "stream",
     "text": [
      "yatisha\n"
     ]
    }
   ],
   "source": [
    "s1 = \"atishay\"\n",
    "def rotation(s1):\n",
    "    temp = [0]*(len(s1))\n",
    "    for i in range(len(s1)):\n",
    "        j = i\n",
    "        k = 0\n",
    "        while j < len(s1):\n",
    "            temp[k] = s1[j]\n",
    "            j+=1\n",
    "            k+=1\n",
    "        j=0\n",
    "        while j<i:\n",
    "            \n",
    "            temp[k] = s1[j]\n",
    "            j+=1\n",
    "            k+=1\n",
    "    temp = \"\".join(temp)\n",
    "    return str(temp)\n",
    "       \n",
    "\n",
    "        \n",
    "result = rotation(s1)\n",
    "print(result)\n",
    "    "
   ]
  },
  {
   "cell_type": "markdown",
   "metadata": {},
   "source": [
    "### Reversing a string"
   ]
  },
  {
   "cell_type": "code",
   "execution_count": 2,
   "metadata": {},
   "outputs": [
    {
     "name": "stdout",
     "output_type": "stream",
     "text": [
      "yahsita\n"
     ]
    }
   ],
   "source": [
    "s = 'atishay'\n",
    "s = s[::-1]\n",
    "print(s)"
   ]
  },
  {
   "cell_type": "markdown",
   "metadata": {},
   "source": [
    "### Subsequence"
   ]
  },
  {
   "cell_type": "code",
   "execution_count": 10,
   "metadata": {},
   "outputs": [
    {
     "data": {
      "text/plain": [
       "['g',\n",
       " 'ge',\n",
       " 'gek',\n",
       " 'geks',\n",
       " 'ges',\n",
       " 'gk',\n",
       " 'gs',\n",
       " 'e',\n",
       " 'ee',\n",
       " 'eks',\n",
       " 'ek',\n",
       " 'es',\n",
       " 'e',\n",
       " 'k',\n",
       " 'ks',\n",
       " 's',\n",
       " 'geeks']"
      ]
     },
     "execution_count": 10,
     "metadata": {},
     "output_type": "execute_result"
    }
   ],
   "source": [
    "s = 'geeks'\n",
    "def subs(s):\n",
    "    a = []\n",
    "    for i in range(len(s)):\n",
    "        a.append(s[i])\n",
    "        j = i+1\n",
    "        while j < len(s):\n",
    "            if (s[i]+s[j]) in a:\n",
    "                j+=1\n",
    "                continue\n",
    "            else:\n",
    "                a.append(s[i]+s[j])\n",
    "                j+=1\n",
    "            k = j+1\n",
    "            while k < len(s):\n",
    "                if (s[i]+s[j]+s[k]) in a:\n",
    "                    k+=1\n",
    "                    continue\n",
    "                else:\n",
    "                    a.append(s[i]+s[j]+s[k])\n",
    "                l = k+1\n",
    "                while l < len(s):\n",
    "                    if (s[i]+s[j]+s[k]+s[l]) in a:\n",
    "                        l+=1\n",
    "                        continue\n",
    "                    else:\n",
    "                        a.append(s[i]+s[j]+s[k]+s[l])\n",
    "    a.append(s)\n",
    "    return a \n",
    "\n",
    "subs(s)\n",
    "            \n",
    "            \n",
    "        "
   ]
  },
  {
   "cell_type": "code",
   "execution_count": null,
   "metadata": {},
   "outputs": [],
   "source": []
  }
 ],
 "metadata": {
  "kernelspec": {
   "display_name": "myenv",
   "language": "python",
   "name": "python3"
  },
  "language_info": {
   "codemirror_mode": {
    "name": "ipython",
    "version": 3
   },
   "file_extension": ".py",
   "mimetype": "text/x-python",
   "name": "python",
   "nbconvert_exporter": "python",
   "pygments_lexer": "ipython3",
   "version": "3.10.14"
  }
 },
 "nbformat": 4,
 "nbformat_minor": 2
}
