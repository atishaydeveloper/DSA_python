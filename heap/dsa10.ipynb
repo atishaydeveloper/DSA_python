{
 "cells": [
  {
   "cell_type": "markdown",
   "metadata": {},
   "source": [
    "# Heap"
   ]
  },
  {
   "cell_type": "code",
   "execution_count": 1,
   "metadata": {},
   "outputs": [
    {
     "name": "stdout",
     "output_type": "stream",
     "text": [
      "Heap after insertions:\n",
      "[5, 15, 10, 20]\n",
      "Min element removed: 5\n",
      "Heap after removing min:\n",
      "[10, 15, 20]\n"
     ]
    }
   ],
   "source": [
    "class MinHeap:\n",
    "    def __init__(self):\n",
    "        self.heap = []\n",
    "        \n",
    "    def insert (self,key):\n",
    "        self.heap.append(key)\n",
    "        self._heapify_up(len(self.heap) - 1)\n",
    "        \n",
    "    def remove_min(self):\n",
    "        if len(self.heap) == 0:\n",
    "            return None\n",
    "        \n",
    "        self._swap(0,len(self.heap)-1)\n",
    "        min_element = self.heap.pop()\n",
    "        self._heapify_down(0)\n",
    "        \n",
    "        return min_element\n",
    "    \n",
    "    def _heapify_up(self,index):\n",
    "        parent_index = (index - 1)//2\n",
    "        if index > 0 and self.heap[index] < self.heap[parent_index]:\n",
    "            self._swap(index,parent_index)\n",
    "            self._heapify_up(parent_index)\n",
    "            \n",
    "    def _heapify_down(self,index):\n",
    "        smallest = index\n",
    "        left_child_index = 2*index+1\n",
    "        right_child_index = 2*index+2\n",
    "        \n",
    "        if left_child_index < len(self.heap) and self.heap[left_child_index] < self.heap[smallest]:\n",
    "            smallest = left_child_index\n",
    "            \n",
    "        if right_child_index < len(self.heap) and self.heap[right_child_index] < self.heap[smallest]:\n",
    "            smallest = right_child_index\n",
    "            \n",
    "        if smallest != index:\n",
    "            self._swap(index,smallest)\n",
    "            self._heapify_down(smallest)\n",
    "            \n",
    "    def _swap(self,i, j):\n",
    "        self.heap[i],self.heap[j] = self.heap[j], self.heap[i]\n",
    "        \n",
    "    def get_min(self):\n",
    "        if len(self.heap) == 0:\n",
    "            return None\n",
    "        return self.heap[0]\n",
    "    \n",
    "    def print_heap(self):\n",
    "        print(self.heap)\n",
    "        \n",
    "\n",
    "min_heap = MinHeap()\n",
    "min_heap.insert(10)\n",
    "min_heap.insert(20)\n",
    "min_heap.insert(5)\n",
    "min_heap.insert(15) \n",
    "\n",
    "print(\"Heap after insertions:\")\n",
    "min_heap.print_heap()\n",
    "\n",
    "print(\"Min element removed:\", min_heap.remove_min())\n",
    "\n",
    "print(\"Heap after removing min:\")\n",
    "min_heap.print_heap()\n"
   ]
  },
  {
   "cell_type": "code",
   "execution_count": null,
   "metadata": {},
   "outputs": [],
   "source": []
  }
 ],
 "metadata": {
  "kernelspec": {
   "display_name": "myenv",
   "language": "python",
   "name": "python3"
  },
  "language_info": {
   "codemirror_mode": {
    "name": "ipython",
    "version": 3
   },
   "file_extension": ".py",
   "mimetype": "text/x-python",
   "name": "python",
   "nbconvert_exporter": "python",
   "pygments_lexer": "ipython3",
   "version": "3.10.14"
  }
 },
 "nbformat": 4,
 "nbformat_minor": 2
}
