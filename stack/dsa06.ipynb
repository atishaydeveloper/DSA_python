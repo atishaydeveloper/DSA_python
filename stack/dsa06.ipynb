{
 "cells": [
  {
   "cell_type": "markdown",
   "metadata": {},
   "source": [
    "# Stack"
   ]
  },
  {
   "cell_type": "markdown",
   "metadata": {},
   "source": [
    "## Implementation of Stack DS using Array:"
   ]
  },
  {
   "cell_type": "code",
   "execution_count": 13,
   "metadata": {},
   "outputs": [
    {
     "name": "stdout",
     "output_type": "stream",
     "text": [
      "10 pushed to stack\n",
      "20 pushed to stack\n",
      "30 pushed to stack\n",
      "30 popped from stack\n",
      "Top element is : 20\n",
      "Elements present in stack : 10 20 "
     ]
    }
   ],
   "source": [
    "from sys import maxsize\n",
    "\n",
    "def createStack():\n",
    "    stack = []\n",
    "    return stack\n",
    "\n",
    "def isEmpty(stack):\n",
    "    return len(stack) == 0\n",
    "\n",
    "def push(stack,item):\n",
    "    stack.append(item)\n",
    "    print(item + \" pushed to stack\")\n",
    "    \n",
    "def pop(stack):\n",
    "    if (isEmpty(stack)):\n",
    "        return str(-maxsize -1)\n",
    "    return stack.pop()\n",
    "\n",
    "def peek(stack):\n",
    "    if (isEmpty(stack)):\n",
    "        return str(-maxsize -1)\n",
    "    return stack[len(stack) -1]\n",
    "\n",
    "def print_list(stack):\n",
    "    for i in range(len(stack)):\n",
    "        print(stack[i], end=\" \")\n",
    "        \n",
    "\n",
    "stack = createStack()\n",
    "push(stack,str(10))\n",
    "push(stack,str(20))\n",
    "push(stack,str(30))\n",
    "print(pop(stack) + \" popped from stack\")\n",
    "print(f\"Top element is : {peek(stack)}\")\n",
    "print(\"Elements present in stack : \",end=\"\")\n",
    "print_list(stack)\n"
   ]
  },
  {
   "cell_type": "markdown",
   "metadata": {},
   "source": [
    "## Implementation of stack using linked list"
   ]
  },
  {
   "cell_type": "code",
   "execution_count": 17,
   "metadata": {},
   "outputs": [
    {
     "name": "stdout",
     "output_type": "stream",
     "text": [
      " 10 pushed to stack\n",
      " 20 pushed to stack\n",
      " 30 pushed to stack\n",
      " 30 popped from stack\n",
      "Top element is  20 \n"
     ]
    }
   ],
   "source": [
    "class StackNode:\n",
    "    def __init__(self,data):\n",
    "        self.data = data\n",
    "        self.next = None\n",
    "        \n",
    "class Stack:\n",
    "    def __init__(self):\n",
    "        self.root = None\n",
    "    \n",
    "    def isEmpty(self):\n",
    "        return True if self.root is None else False\n",
    "    \n",
    "    def push(self,data):\n",
    "        new_node = StackNode(data)\n",
    "        new_node.next = self.root\n",
    "        self.root = new_node\n",
    "        print(\"% d pushed to stack\" % (data))\n",
    "        \n",
    "    def pop(self):\n",
    "        if (self.isEmpty()):\n",
    "            return float(\"-inf\")\n",
    "        temp = self.root\n",
    "        self.root = self.root.next\n",
    "        popped = temp.data\n",
    "        return popped\n",
    "    \n",
    "    def peek(self):\n",
    "        if self.isEmpty():\n",
    "            return float(\"-inf\")\n",
    "        return self.root.data\n",
    "    \n",
    "stack = Stack()\n",
    "stack.push(10)\n",
    "stack.push(20)\n",
    "stack.push(30)\n",
    "\n",
    "print (\"% d popped from stack\" % (stack.pop()))\n",
    "print (\"Top element is % d \" % (stack.peek()))\n",
    "    "
   ]
  },
  {
   "cell_type": "code",
   "execution_count": null,
   "metadata": {},
   "outputs": [],
   "source": []
  }
 ],
 "metadata": {
  "kernelspec": {
   "display_name": "myenv",
   "language": "python",
   "name": "python3"
  },
  "language_info": {
   "codemirror_mode": {
    "name": "ipython",
    "version": 3
   },
   "file_extension": ".py",
   "mimetype": "text/x-python",
   "name": "python",
   "nbconvert_exporter": "python",
   "pygments_lexer": "ipython3",
   "version": "3.10.14"
  }
 },
 "nbformat": 4,
 "nbformat_minor": 2
}
