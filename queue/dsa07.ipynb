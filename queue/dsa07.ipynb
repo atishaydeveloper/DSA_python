{
 "cells": [
  {
   "cell_type": "markdown",
   "metadata": {},
   "source": [
    "# Queue"
   ]
  },
  {
   "cell_type": "markdown",
   "metadata": {},
   "source": [
    "## Array implementation of queue"
   ]
  },
  {
   "cell_type": "code",
   "execution_count": 6,
   "metadata": {},
   "outputs": [
    {
     "name": "stdout",
     "output_type": "stream",
     "text": [
      "added element :10\n",
      "added element :20\n",
      "added element :30\n",
      "added element :40\n",
      "10 20 30 40 \n",
      "deleted element :10\n",
      "deleted element :20\n",
      "30 40 \n"
     ]
    }
   ],
   "source": [
    "class Queue:\n",
    "    def __init__(self,capacity):\n",
    "        self.front = 0\n",
    "        self.rear = -1\n",
    "        self.capacity = capacity\n",
    "        self.queue = [None]*capacity\n",
    "        \n",
    "    def enqueue(self,data):\n",
    "        if self.rear == self.capacity:\n",
    "            print(\"Queue is full\")\n",
    "            return\n",
    "        self.rear+=1\n",
    "        self.queue[self.rear] = data\n",
    "        print(\"added element :\",end=\"\")\n",
    "        print(self.queue[self.rear])\n",
    "        \n",
    "    def dequeue(self):\n",
    "        if self.front > self.rear:\n",
    "            print(\"Queue is empty\")\n",
    "            return \n",
    "        temp = self.queue[self.front]\n",
    "        \n",
    "        \n",
    "        for i in range(self.rear):\n",
    "            self.queue[i] = self.queue[i+1]\n",
    "        self.rear-=1\n",
    "        print(\"deleted element :\",end=\"\")\n",
    "        print(temp)\n",
    "        \n",
    "    def display(self):\n",
    "        if self.front > self.rear:\n",
    "            print(\"Queue is empty\")\n",
    "            return\n",
    "        for i in range(self.front,self.rear+1):\n",
    "            print(self.queue[i],end=\" \")\n",
    "            \n",
    "        print()\n",
    "        \n",
    "    def front(self):\n",
    "        print(self.queue[self.front])\n",
    "        \n",
    "if __name__ == \"__main__\":\n",
    "    queue = Queue(4)\n",
    "    queue.enqueue(10)\n",
    "    queue.enqueue(20)\n",
    "    queue.enqueue(30)\n",
    "    queue.enqueue(40)\n",
    "    \n",
    "    queue.display()\n",
    "    \n",
    "    queue.dequeue()\n",
    "    queue.dequeue()\n",
    "    \n",
    "    queue.display()"
   ]
  },
  {
   "cell_type": "markdown",
   "metadata": {},
   "source": [
    "## Queue implementation using linked list"
   ]
  },
  {
   "cell_type": "code",
   "execution_count": 8,
   "metadata": {},
   "outputs": [
    {
     "name": "stdout",
     "output_type": "stream",
     "text": [
      "Front element is: 10\n",
      "Front element after dequeue is: 20\n"
     ]
    }
   ],
   "source": [
    "class Node:\n",
    "    def __init__(self,data):\n",
    "        self.data = data\n",
    "        self.next = None\n",
    "\n",
    "class Queue:\n",
    "    def __init__(self):\n",
    "        self.front = None\n",
    "        self.rear = None\n",
    "        \n",
    "    def is_empty(self):\n",
    "        return self.front is None and self.rear is None\n",
    "    \n",
    "    def enqueue(self,data):\n",
    "        new_node = Node(data)\n",
    "        if self.rear is None:\n",
    "            self.front = self.rear = new_node\n",
    "            return  \n",
    "        self.rear.next = new_node\n",
    "        self.rear = new_node\n",
    "        \n",
    "    def dequeue(self):\n",
    "        if self.is_empty():\n",
    "            print(\"Queue Underflow\")\n",
    "            return\n",
    "        temp = self.front\n",
    "        self.front = self.front.next \n",
    "        \n",
    "        if self.front is None:\n",
    "            self.rear = None\n",
    "            \n",
    "    def get_front(self):\n",
    "        if self.is_empty():\n",
    "            print(\"Queue is empty\")\n",
    "            return\n",
    "        return self.front.data\n",
    "    \n",
    "    def get_rear(self):\n",
    "        if self.is_empty():\n",
    "            print(\"Queue is empty\")\n",
    "            return float(\"-inf\")\n",
    "        return self.rear.data\n",
    "    \n",
    "if __name__ == \"__main__\":\n",
    "    queue = Queue()\n",
    "    queue.enqueue(10)\n",
    "    queue.enqueue(20)\n",
    "    queue.enqueue(30)\n",
    "    queue.enqueue(40)\n",
    "    \n",
    "    # Print the front element\n",
    "    print(\"Front element is:\", queue.get_front())\n",
    "    \n",
    "    # Dequeue an element\n",
    "    queue.dequeue()\n",
    "    \n",
    "    # Print the front element again after dequeue\n",
    "    print(\"Front element after dequeue is:\", queue.get_front())"
   ]
  },
  {
   "cell_type": "markdown",
   "metadata": {},
   "source": []
  },
  {
   "cell_type": "code",
   "execution_count": null,
   "metadata": {},
   "outputs": [],
   "source": []
  }
 ],
 "metadata": {
  "kernelspec": {
   "display_name": "myenv",
   "language": "python",
   "name": "python3"
  },
  "language_info": {
   "codemirror_mode": {
    "name": "ipython",
    "version": 3
   },
   "file_extension": ".py",
   "mimetype": "text/x-python",
   "name": "python",
   "nbconvert_exporter": "python",
   "pygments_lexer": "ipython3",
   "version": "3.10.14"
  }
 },
 "nbformat": 4,
 "nbformat_minor": 2
}
