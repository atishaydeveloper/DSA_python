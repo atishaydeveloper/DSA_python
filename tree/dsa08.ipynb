{
 "cells": [
  {
   "cell_type": "markdown",
   "metadata": {},
   "source": [
    "# Operations on a Tree"
   ]
  },
  {
   "cell_type": "markdown",
   "metadata": {},
   "source": [
    "### Depth of a tree"
   ]
  },
  {
   "cell_type": "code",
   "execution_count": 1,
   "metadata": {},
   "outputs": [
    {
     "name": "stdout",
     "output_type": "stream",
     "text": [
      "4\n"
     ]
    }
   ],
   "source": [
    "class Node:\n",
    "    def __init__(self,key):\n",
    "        self.key = key\n",
    "        self.child = []\n",
    "        \n",
    "def new_node(key):\n",
    "    temp = Node(key)\n",
    "    return temp\n",
    "\n",
    "def depth_of_tree(ptr):\n",
    "    if ptr is None:\n",
    "        return 0\n",
    "    \n",
    "    maxdepth = 0\n",
    "    for child in ptr.child:\n",
    "        maxdepth = max(maxdepth,depth_of_tree(child))\n",
    "        \n",
    "    return maxdepth + 1\n",
    "\n",
    "if __name__ == \"__main__\":\n",
    "    root = new_node('A')\n",
    "    root.child.extend([new_node('B'),new_node('F'),new_node('D'),new_node('E')])\n",
    "    root.child[0].child.extend([new_node('K'), new_node('J')])\n",
    "    root.child[2].child.append(new_node('G'))\n",
    "    root.child[3].child.extend([new_node('C'),new_node('H'), new_node('I')])\n",
    "    root.child[0].child[0].child.extend([new_node('N'), new_node('M')])\n",
    "    root.child[3].child[2].child.append(new_node('L'))\n",
    "    \n",
    "    print(depth_of_tree(root))"
   ]
  },
  {
   "cell_type": "markdown",
   "metadata": {},
   "source": [
    "### Height and Depth of a node in a Binary Tree"
   ]
  },
  {
   "cell_type": "code",
   "execution_count": 2,
   "metadata": {},
   "outputs": [
    {
     "name": "stdout",
     "output_type": "stream",
     "text": [
      "Depth:  2\n",
      "Height:  1\n"
     ]
    }
   ],
   "source": [
    "class Node:\n",
    "    def __init__(self,x):\n",
    "        self.data = x\n",
    "        self.right = None\n",
    "        self.left = None\n",
    "        \n",
    "def findDepth(root,x):\n",
    "    if root == None:\n",
    "        return -1\n",
    "    \n",
    "    dist = -1\n",
    "    \n",
    "    if root.data == x:\n",
    "        return dist + 1\n",
    "    \n",
    "    dist = findDepth(root.left,x)\n",
    "    if dist >= 0:\n",
    "        return dist + 1\n",
    "    \n",
    "    dist = findDepth(root.right, x)\n",
    "    if dist >= 0:\n",
    "        return dist + 1\n",
    "    return dist\n",
    "\n",
    "def findHeightUtil(root,x):\n",
    "    global height \n",
    "    \n",
    "    if root == None:\n",
    "        return -1\n",
    "    \n",
    "    leftHeight = findHeightUtil(root.left,x)\n",
    "    rightHeight = findHeightUtil(root.right, x)\n",
    "    ans = max(leftHeight,rightHeight) + 1\n",
    "    \n",
    "    if root.data == x:\n",
    "        height = ans\n",
    "        \n",
    "    return ans\n",
    "\n",
    "def findHeight(root,x):\n",
    "    global height\n",
    "    maxHeight = findHeightUtil(root,x)\n",
    "    return height\n",
    "\n",
    "if __name__ == '__main__':\n",
    "  \n",
    "    # Binary Tree Formation\n",
    "    height = -1\n",
    "    root = Node(5)\n",
    "    root.left = Node(10)\n",
    "    root.right = Node(15)\n",
    "    root.left.left = Node(20)\n",
    "    root.left.right = Node(25)\n",
    "    root.left.right.right = Node(45)\n",
    "    root.right.left = Node(30)\n",
    "    root.right.right = Node(35)\n",
    "\n",
    "    k = 25\n",
    "    \n",
    "    print(\"Depth: \",findDepth(root, k))\n",
    "\n",
    "    print(\"Height: \",findHeight(root, k))\n",
    "    "
   ]
  },
  {
   "cell_type": "code",
   "execution_count": null,
   "metadata": {},
   "outputs": [],
   "source": []
  }
 ],
 "metadata": {
  "kernelspec": {
   "display_name": "myenv",
   "language": "python",
   "name": "python3"
  },
  "language_info": {
   "codemirror_mode": {
    "name": "ipython",
    "version": 3
   },
   "file_extension": ".py",
   "mimetype": "text/x-python",
   "name": "python",
   "nbconvert_exporter": "python",
   "pygments_lexer": "ipython3",
   "version": "3.10.14"
  }
 },
 "nbformat": 4,
 "nbformat_minor": 2
}
