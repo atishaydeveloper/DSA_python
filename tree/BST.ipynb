{
 "cells": [
  {
   "cell_type": "markdown",
   "metadata": {},
   "source": [
    "# BST\n"
   ]
  },
  {
   "cell_type": "markdown",
   "metadata": {},
   "source": [
    "### Syntax\n"
   ]
  },
  {
   "cell_type": "code",
   "execution_count": 1,
   "metadata": {},
   "outputs": [],
   "source": [
    "class Node:\n",
    "    def __init__(self,data):\n",
    "        self.data = data\n",
    "        self.left = None\n",
    "        self.right = None\n",
    "        \n",
    "firstNode = Node(6)\n",
    "secNode = Node(4)\n",
    "thirdNode = Node(8)\n",
    "fourthNode = Node(2)\n",
    "fifthNode = Node(5)\n",
    "\n",
    "firstNode.left = secNode\n",
    "firstNode.right = thirdNode\n",
    "secNode.left = fourthNode\n",
    "secNode.right = fifthNode\n"
   ]
  },
  {
   "cell_type": "markdown",
   "metadata": {},
   "source": [
    "### Searching"
   ]
  },
  {
   "cell_type": "code",
   "execution_count": 1,
   "metadata": {},
   "outputs": [
    {
     "name": "stdout",
     "output_type": "stream",
     "text": [
      "60 is found in the tree\n"
     ]
    }
   ],
   "source": [
    "class Node:\n",
    "    def __init__(self, data):\n",
    "        self.data = data\n",
    "        self.left = None\n",
    "        self.right = None\n",
    "        \n",
    "def searched(root,key):\n",
    "    if root is None:\n",
    "        return \n",
    "    if root.data == key:\n",
    "        return True\n",
    "    elif root.data > key:\n",
    "        return searched(root.left,key)\n",
    "    elif root.data < key:\n",
    "        return searched(root.right,key)\n",
    "    else:\n",
    "        return False\n",
    "    \n",
    "\n",
    "    \n",
    "if __name__ == \"__main__\":\n",
    "    root = Node(50)\n",
    "    root.left = Node(30)\n",
    "    root.right = Node(70)\n",
    "    root.left.left = Node(20)\n",
    "    root.left.right = Node(40)\n",
    "    root.right.left = Node(60)\n",
    "    root.right.right = Node(80)\n",
    "    \n",
    "    key = 60\n",
    "    if searched(root,key):\n",
    "        print(key,\"is found in the tree\")\n",
    "    else:\n",
    "        print(key,\"is not found in the tree\")\n",
    "    \n"
   ]
  },
  {
   "cell_type": "markdown",
   "metadata": {},
   "source": [
    "### insertion "
   ]
  },
  {
   "cell_type": "code",
   "execution_count": 7,
   "metadata": {},
   "outputs": [
    {
     "name": "stdout",
     "output_type": "stream",
     "text": [
      "20 30 40 50 60 70 80 <__main__.Node object at 0x0000029C958942B0>\n"
     ]
    }
   ],
   "source": [
    "class Node:\n",
    "    def __init__(self,data):\n",
    "        self.data = data\n",
    "        self.left = None\n",
    "        self.right = None\n",
    "        \n",
    "def insertval(root,val):\n",
    "    if root is None:\n",
    "        return Node(val)\n",
    "    if root.data == val:\n",
    "        return root\n",
    "    if root.data > val:\n",
    "        root.left = insertval(root.left,val)\n",
    "    else:\n",
    "        root.right = insertval(root.right,val)\n",
    "        \n",
    "    return root\n",
    "        \n",
    "def inorder(root):\n",
    "    if root is None:\n",
    "        return\n",
    "    \n",
    "    inorder(root.left)\n",
    "    print(root.data,end = \" \")\n",
    "    inorder(root.right)\n",
    "        \n",
    "if __name__ == \"__main__\":\n",
    "    \n",
    "    r = Node(50)\n",
    "    r = insertval(r,30)\n",
    "    r = insertval(r,20)\n",
    "    r = insertval(r,40)\n",
    "    r = insertval(r,70)\n",
    "    r = insertval(r,60)\n",
    "    r = insertval(r,80)\n",
    "\n",
    "    inorder(r)\n",
    "    \n",
    "\n",
    "    "
   ]
  },
  {
   "cell_type": "markdown",
   "metadata": {},
   "source": [
    "### Deletion"
   ]
  },
  {
   "cell_type": "code",
   "execution_count": 13,
   "metadata": {},
   "outputs": [
    {
     "name": "stdout",
     "output_type": "stream",
     "text": [
      "80 is deleted from the tree\n",
      "20 30 40 50 60 70 None "
     ]
    }
   ],
   "source": [
    "class Node:\n",
    "    def __init__(self, data):\n",
    "        self.data = data\n",
    "        self.left = None\n",
    "        self.right = None\n",
    "        \n",
    "def searched(root,key):\n",
    "    if root is None:\n",
    "        return root\n",
    "    if root.data == key:\n",
    "        delete(root)\n",
    "        return True\n",
    "    elif root.data > key:\n",
    "        return searched(root.left,key)\n",
    "    else:\n",
    "        return searched(root.right,key)\n",
    "    \n",
    "    \n",
    "    \n",
    "    \n",
    "def delete(node):\n",
    "    if  node is None:\n",
    "        return None\n",
    "    if node.left is not None and node.right is not None:\n",
    "        successor = find_min(node.right)\n",
    "        node.data = successor.data\n",
    "        node.right = delete_val(node.right, successor.data)\n",
    "        \n",
    "    elif node.right is not None:\n",
    "        node.data == node.right.data\n",
    "        node.right = None\n",
    "    elif node.left is not None:\n",
    "        node.data == node.left.data\n",
    "        node.left = None\n",
    "    else:\n",
    "        node.data = None\n",
    "        \n",
    "def delete_val(root,key):\n",
    "    if root is None:\n",
    "        return root\n",
    "    if key < root.data:\n",
    "        root.left = delete_val(root.left, key)\n",
    "    elif key > root.data:\n",
    "        root.right = delete_val(root.right, key)\n",
    "    else:\n",
    "        # Node with one or no children\n",
    "        if root.left is None:\n",
    "            return root.right\n",
    "        elif root.right is None:\n",
    "            return root.left\n",
    "        # Node with two children, find the inorder successor\n",
    "        temp = find_min(root.right)\n",
    "        root.data = temp.data\n",
    "        root.right = delete_val(root.right, temp.data)\n",
    "    return root\n",
    "\n",
    "def find_min(node):\n",
    "    current = node\n",
    "    while current.left is not None:\n",
    "        current = current.left\n",
    "    return current\n",
    "\n",
    "\n",
    "def inorder(root):\n",
    "    if root is None:\n",
    "        return\n",
    "    \n",
    "    inorder(root.left)\n",
    "    print(root.data,end = \" \")\n",
    "    inorder(root.right)\n",
    "    \n",
    "        \n",
    "if __name__ == \"__main__\":\n",
    "    root = Node(50)\n",
    "    root.left = Node(30)\n",
    "    root.right = Node(70)\n",
    "    root.left.left = Node(20)\n",
    "    root.left.right = Node(40)\n",
    "    root.right.left = Node(60)\n",
    "    root.right.right = Node(80)\n",
    "    \n",
    "    key = 80\n",
    "    if searched(root,key):\n",
    "        print(key,\"is deleted from the tree\")\n",
    "        inorder(root)\n",
    "    else:\n",
    "        print(key,\"not found\")\n",
    "        \n",
    "        \n",
    "        \n",
    "        \n",
    "        \n",
    "        \n",
    "        \n",
    "    "
   ]
  },
  {
   "cell_type": "code",
   "execution_count": null,
   "metadata": {},
   "outputs": [],
   "source": []
  }
 ],
 "metadata": {
  "kernelspec": {
   "display_name": "myenv",
   "language": "python",
   "name": "python3"
  },
  "language_info": {
   "codemirror_mode": {
    "name": "ipython",
    "version": 3
   },
   "file_extension": ".py",
   "mimetype": "text/x-python",
   "name": "python",
   "nbconvert_exporter": "python",
   "pygments_lexer": "ipython3",
   "version": "3.10.14"
  }
 },
 "nbformat": 4,
 "nbformat_minor": 2
}
