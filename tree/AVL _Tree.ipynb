{
 "cells": [
  {
   "cell_type": "markdown",
   "metadata": {},
   "source": [
    "# AVL Tree"
   ]
  },
  {
   "cell_type": "markdown",
   "metadata": {},
   "source": [
    "### insertion"
   ]
  },
  {
   "cell_type": "code",
   "execution_count": 2,
   "metadata": {},
   "outputs": [
    {
     "name": "stdout",
     "output_type": "stream",
     "text": [
      "Preorder traversal :\n",
      "30 20 10 25 40 50 "
     ]
    }
   ],
   "source": [
    "class Node:\n",
    "    def __init__(self,key):\n",
    "        self.key = key\n",
    "        self.left = None\n",
    "        self.right =  None\n",
    "        self.height = 1\n",
    "        \n",
    "def height(node):\n",
    "    if not node:\n",
    "        return 0\n",
    "    return node.height\n",
    "\n",
    "def right_rotate(y):\n",
    "    x = y.left\n",
    "    T2 = x.right\n",
    "    x.right = y\n",
    "    y.left = T2\n",
    "    \n",
    "    y.height = 1+max(height(y.left),height(y.right))\n",
    "    x.height = 1+max(height(x.left),height(x.right))\n",
    "    \n",
    "    return x\n",
    "\n",
    "def left_rotate(y):\n",
    "    x = y.right\n",
    "    T3 = x.left\n",
    "    x.left = y\n",
    "    y.right = T3\n",
    "    \n",
    "    y.height = 1+max(height(y.left),height(y.right))\n",
    "    x.height = 1+max(height(x.left),height(x.right))\n",
    "    \n",
    "    return x\n",
    "\n",
    "def get_balance(node):\n",
    "    if not node:\n",
    "        return 0\n",
    "    return height(node.left)-height(node.right)\n",
    "\n",
    "def insert(node,key):\n",
    "    if not node:\n",
    "        return Node(key)\n",
    "    \n",
    "    if key < node.key:\n",
    "        node.left = insert(node.left,key)\n",
    "    elif key > node.key:\n",
    "        node.right = insert(node.right,key)\n",
    "    else:\n",
    "        return node\n",
    "    \n",
    "    node.height = 1+max(height(node.left),height(node.right))\n",
    "    \n",
    "    balance = get_balance(node)\n",
    "    \n",
    "    if balance > 1 and key < node.left.key:\n",
    "        return right_rotate(node)\n",
    "    \n",
    "    if balance < -1 and key > node.right.key:\n",
    "        return left_rotate(node)\n",
    "    \n",
    "    if balance > 1 and key > node.left.key:\n",
    "        node.left = left_rotate(node.left)\n",
    "        return right_rotate(node)\n",
    "    \n",
    "    if balance < -1 and key < node.right.key:\n",
    "        node.right = right_rotate(node.right)\n",
    "        return left_rotate(node)\n",
    "    \n",
    "    return node\n",
    "\n",
    "def pre_order(root):\n",
    "    if root:\n",
    "        print(root.key, end=\" \")\n",
    "        pre_order(root.left)\n",
    "        pre_order(root.right)\n",
    "        \n",
    "root = None\n",
    "\n",
    "root = insert(root, 10)\n",
    "root = insert(root, 20)\n",
    "root = insert(root, 30)\n",
    "root = insert(root, 40)\n",
    "root = insert(root, 50)\n",
    "root = insert(root, 25)\n",
    "\n",
    "print(\"Preorder traversal :\")\n",
    "pre_order(root)\n",
    "\n",
    "    \n",
    "    \n",
    "    \n",
    "    "
   ]
  }
 ],
 "metadata": {
  "kernelspec": {
   "display_name": "myenv",
   "language": "python",
   "name": "python3"
  },
  "language_info": {
   "codemirror_mode": {
    "name": "ipython",
    "version": 3
   },
   "file_extension": ".py",
   "mimetype": "text/x-python",
   "name": "python",
   "nbconvert_exporter": "python",
   "pygments_lexer": "ipython3",
   "version": "3.10.14"
  }
 },
 "nbformat": 4,
 "nbformat_minor": 2
}
