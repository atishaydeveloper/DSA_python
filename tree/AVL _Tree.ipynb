{
 "cells": [
  {
   "cell_type": "markdown",
   "metadata": {},
   "source": [
    "# AVL Tree"
   ]
  },
  {
   "cell_type": "markdown",
   "metadata": {},
   "source": [
    "### insertion"
   ]
  },
  {
   "cell_type": "code",
   "execution_count": null,
   "metadata": {},
   "outputs": [],
   "source": [
    "class Node:\n",
    "    def __init__(self,data):\n",
    "        self.data=data\n",
    "        self.left = None\n",
    "        self.right = None\n",
    "        self.height = 1\n",
    "        \n",
    "def height(node):\n",
    "    if not node:\n",
    "        return 0\n",
    "    return node.height\n",
    "\n",
    "def right_rotate(y):\n",
    "    x = y.left\n",
    "    T2 = x.right\n",
    "    \n",
    "    x.right = y\n",
    "    y.left = T2\n",
    "    \n",
    "    y.height = 1+ max(height(y.left),height(y.right))\n",
    "    x.height = 1+ max(height(x.left),height(x.right))\n",
    "    \n",
    "    return x\n",
    "\n",
    "def left_rotate(x):\n",
    "    y = x.right\n",
    "    T2 = y.left\n",
    "    \n",
    "    y.left = x\n",
    "    x.right = T2\n",
    "    \n",
    "    x.height = 1 + max(height(x.left),height(x.right))\n",
    "    y.height = 1 + max(height(y.left),height(y.right))\n",
    "    \n",
    "    return y\n",
    "    \n",
    "def get_balance(node):\n",
    "    if not node:\n",
    "        return 0\n",
    "    return height(node.left) - height(node.right)\n",
    "\n",
    "def insert(node,key):\n",
    "    if not node:\n",
    "        return Node(key)\n",
    "    if key < node.key:\n",
    "        node.left = insert(node.left,key)\n",
    "    elif key > node.key:\n",
    "        node.right = insert(node.left, key)\n",
    "    else:\n",
    "        return node\n",
    "    \n",
    "    node.height = 1 + max(height(node.left), height(node.right))\n",
    "    \n",
    "    balance = get_balance(node)\n",
    "    \n",
    "    if balance > 1 and  key <node.left.keys\n",
    "\n",
    "\n"
   ]
  },
  {
   "cell_type": "markdown",
   "metadata": {},
   "source": []
  }
 ],
 "metadata": {
  "kernelspec": {
   "display_name": "myenv",
   "language": "python",
   "name": "python3"
  },
  "language_info": {
   "name": "python",
   "version": "3.10.14"
  }
 },
 "nbformat": 4,
 "nbformat_minor": 2
}
