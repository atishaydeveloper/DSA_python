{
 "cells": [
  {
   "cell_type": "markdown",
   "metadata": {},
   "source": [
    "# Intro to Generic Trees"
   ]
  },
  {
   "cell_type": "code",
   "execution_count": 1,
   "metadata": {},
   "outputs": [],
   "source": [
    "#worst case scenario with a lot of space usage\n",
    "class Node:\n",
    "    def __init__(self, data):\n",
    "        self.data = data\n",
    "        self.firstchild = None\n",
    "        self.secondchild = None\n",
    "        self.thirdchild = None\n",
    "        self.fourthchild = None\n",
    "        self.fifthchild = None\n",
    "        self.sixthchild = None\n",
    "        \n",
    "        "
   ]
  },
  {
   "cell_type": "code",
   "execution_count": 2,
   "metadata": {},
   "outputs": [],
   "source": [
    "#using dynamic arrays for better approach\n",
    "class Node:\n",
    "    def __init__(self,data):\n",
    "        self.data = data\n",
    "        self.children = []"
   ]
  },
  {
   "cell_type": "code",
   "execution_count": 3,
   "metadata": {},
   "outputs": [],
   "source": [
    "#using linked list to link child with child instead of linking parent node with each child\n",
    "class Node:\n",
    "    def __init__(self,data):\n",
    "        self.data = data\n",
    "        self.firstchild = None\n",
    "        self.nextsibling = None"
   ]
  },
  {
   "cell_type": "markdown",
   "metadata": {},
   "source": [
    "## Depth of a n-ary tree"
   ]
  },
  {
   "cell_type": "code",
   "execution_count": 4,
   "metadata": {},
   "outputs": [
    {
     "name": "stdout",
     "output_type": "stream",
     "text": [
      "4\n"
     ]
    }
   ],
   "source": [
    "class Node:\n",
    "    def __init__(self,key):\n",
    "        self.key = key\n",
    "        self.child = []\n",
    "        \n",
    "def new_node(key):\n",
    "    temp = Node(key)\n",
    "    return temp\n",
    "\n",
    "def depth_of_tree(ptr):\n",
    "    if ptr is None:\n",
    "        return 0\n",
    "    \n",
    "    maxdepth = 0\n",
    "    for child in ptr.child:\n",
    "        maxdepth = max(maxdepth, depth_of_tree(child))\n",
    "    return maxdepth+1\n",
    "\n",
    "if __name__ == \"__main__\":\n",
    "    root = new_node('A')\n",
    "    root.child.extend([new_node('B'), new_node('F'), new_node('D'), new_node('E')]) \n",
    "    root.child[0].child.extend([new_node('K'), new_node('J')]) \n",
    "    root.child[2].child.append(new_node('G')) \n",
    "    root.child[3].child.extend([new_node('C'), new_node('H'), new_node('I')]) \n",
    "    root.child[0].child[0].child.extend([new_node('N'), new_node('M')]) \n",
    "    root.child[3].child[2].child.append(new_node('L')) \n",
    "    \n",
    "    print(depth_of_tree(root))"
   ]
  },
  {
   "cell_type": "markdown",
   "metadata": {},
   "source": [
    "## Mirroring of the n ary tree\n"
   ]
  },
  {
   "cell_type": "code",
   "execution_count": 2,
   "metadata": {},
   "outputs": [
    {
     "name": "stdout",
     "output_type": "stream",
     "text": [
      "level order traversal before mirroring\n",
      "10 \n",
      "2 34 56 100 \n",
      "1 7 8 9 \n",
      "\n",
      "Level order traversal after mirroring:\n",
      "10 \n",
      "100 56 34 2 \n",
      "9 8 7 1 \n"
     ]
    }
   ],
   "source": [
    "class Node:\n",
    "    def __init__(self, key):\n",
    "        self.key = key\n",
    "        self.child = []\n",
    "        \n",
    "def mirrortree(root):\n",
    "    if root is None:\n",
    "        return \n",
    "    \n",
    "    n = len(root.child)\n",
    "    if n<2:\n",
    "        return \n",
    "    \n",
    "    for i in range(n):\n",
    "        mirrortree(root.child[i])\n",
    "        \n",
    "    root.child.reverse()\n",
    "    \n",
    "def printNodeLevelWise(root):\n",
    "    if root is None:\n",
    "        return \n",
    "    \n",
    "    queue = []\n",
    "    queue.append(root)\n",
    "    \n",
    "    while(len(queue) > 0):\n",
    "        n = len(queue)\n",
    "        while(n>0):\n",
    "            \n",
    "            p = queue.pop(0)\n",
    "            print(p.key,end=\" \")\n",
    "            \n",
    "            for child in p.child:\n",
    "                queue.append(child)\n",
    "            \n",
    "            n -= 1\n",
    "        print()\n",
    "    \n",
    "\n",
    "root = Node(10)\n",
    "root.child.append(Node(2))\n",
    "root.child.append(Node(34))\n",
    "root.child.append(Node(56))\n",
    "root.child.append(Node(100))\n",
    "root.child[2].child.append(Node(1))\n",
    "root.child[3].child.append(Node(7))\n",
    "root.child[3].child.append(Node(8))\n",
    "root.child[3].child.append(Node(9))\n",
    "\n",
    "print(\"level order traversal before mirroring\")\n",
    "printNodeLevelWise(root)\n",
    "\n",
    "mirrortree(root)\n",
    "\n",
    "print(\"\\nLevel order traversal after mirroring:\")\n",
    "printNodeLevelWise(root)"
   ]
  },
  {
   "cell_type": "markdown",
   "metadata": {},
   "source": [
    "## Diameter of an N-ary tree"
   ]
  },
  {
   "cell_type": "code",
   "execution_count": 4,
   "metadata": {},
   "outputs": [
    {
     "name": "stdout",
     "output_type": "stream",
     "text": [
      "7\n"
     ]
    }
   ],
   "source": [
    "class Node:\n",
    "    def __init__(self,x):\n",
    "        self.key = x\n",
    "        self.child= []\n",
    "        \n",
    "def depthoftree(ptr):\n",
    "    if not ptr:\n",
    "        return 0\n",
    "    \n",
    "    maxdepth = 0\n",
    "    for child in ptr.child:\n",
    "        maxdepth = max(maxdepth, depthoftree(child))\n",
    "        \n",
    "    return maxdepth +1\n",
    "\n",
    "def diameter(ptr):\n",
    "    if not ptr:\n",
    "        return 0\n",
    "    \n",
    "    max1,max2 = 0,0\n",
    "    for it in ptr.child:\n",
    "        h = depthoftree(it)\n",
    "        if h>max1 :\n",
    "            max2, max1 = max1, h\n",
    "        elif h>max2:\n",
    "            max2 = h\n",
    "            \n",
    "            \n",
    "    maxchildDia = 0\n",
    "    for it in ptr.child:\n",
    "        maxchildDia = max(maxchildDia,diameter(it))\n",
    "    return max(maxchildDia, max1+max2+1)\n",
    "\n",
    "if __name__ == \"__main__\":\n",
    "    root = root = Node('A')\n",
    "    (root.child).append(Node('B'))\n",
    "    (root.child).append(Node('F'))\n",
    "    (root.child).append(Node('D'))\n",
    "    (root.child).append(Node('E'))\n",
    "    (root.child[0].child).append(Node('K'))\n",
    "    (root.child[0].child).append(Node('J'))\n",
    "    (root.child[2].child).append(Node('G'))\n",
    "    (root.child[3].child).append(Node('C'))\n",
    "    (root.child[3].child).append(Node('H'))\n",
    "    (root.child[3].child).append(Node('I'))\n",
    "    (root.child[0].child[0].child).append(Node('N'))\n",
    "    (root.child[0].child[0].child).append(Node('M'))\n",
    "    (root.child[3].child[2].child).append(Node('L'))\n",
    "\n",
    "    print(diameter(root))"
   ]
  },
  {
   "cell_type": "code",
   "execution_count": null,
   "metadata": {},
   "outputs": [],
   "source": []
  }
 ],
 "metadata": {
  "kernelspec": {
   "display_name": "myenv",
   "language": "python",
   "name": "python3"
  },
  "language_info": {
   "codemirror_mode": {
    "name": "ipython",
    "version": 3
   },
   "file_extension": ".py",
   "mimetype": "text/x-python",
   "name": "python",
   "nbconvert_exporter": "python",
   "pygments_lexer": "ipython3",
   "version": "3.10.14"
  }
 },
 "nbformat": 4,
 "nbformat_minor": 2
}
