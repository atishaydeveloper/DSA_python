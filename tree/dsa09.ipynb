{
 "cells": [
  {
   "cell_type": "markdown",
   "metadata": {},
   "source": [
    "# Intro to Generic Trees"
   ]
  },
  {
   "cell_type": "code",
   "execution_count": 1,
   "metadata": {},
   "outputs": [],
   "source": [
    "#worst case scenario with a lot of space usage\n",
    "class Node:\n",
    "    def __init__(self, data):\n",
    "        self.data = data\n",
    "        self.firstchild = None\n",
    "        self.secondchild = None\n",
    "        self.thirdchild = None\n",
    "        self.fourthchild = None\n",
    "        self.fifthchild = None\n",
    "        self.sixthchild = None\n",
    "        \n",
    "        "
   ]
  },
  {
   "cell_type": "code",
   "execution_count": 2,
   "metadata": {},
   "outputs": [],
   "source": [
    "#using dynamic arrays for better approach\n",
    "class Node:\n",
    "    def __init__(self,data):\n",
    "        self.data = data\n",
    "        self.children = []"
   ]
  },
  {
   "cell_type": "code",
   "execution_count": 3,
   "metadata": {},
   "outputs": [],
   "source": [
    "#using linked list to link child with child instead of linking parent node with each child\n",
    "class Node:\n",
    "    def __init__(self,data):\n",
    "        self.data = data\n",
    "        self.firstchild = None\n",
    "        self.nextsibling = None"
   ]
  },
  {
   "cell_type": "markdown",
   "metadata": {},
   "source": [
    "## Depth of a n-ary tree"
   ]
  },
  {
   "cell_type": "code",
   "execution_count": 4,
   "metadata": {},
   "outputs": [
    {
     "name": "stdout",
     "output_type": "stream",
     "text": [
      "4\n"
     ]
    }
   ],
   "source": [
    "class Node:\n",
    "    def __init__(self,key):\n",
    "        self.key = key\n",
    "        self.child = []\n",
    "        \n",
    "def new_node(key):\n",
    "    temp = Node(key)\n",
    "    return temp\n",
    "\n",
    "def depth_of_tree(ptr):\n",
    "    if ptr is None:\n",
    "        return 0\n",
    "    \n",
    "    maxdepth = 0\n",
    "    for child in ptr.child:\n",
    "        maxdepth = max(maxdepth, depth_of_tree(child))\n",
    "    return maxdepth+1\n",
    "\n",
    "if __name__ == \"__main__\":\n",
    "    root = new_node('A')\n",
    "    root.child.extend([new_node('B'), new_node('F'), new_node('D'), new_node('E')]) \n",
    "    root.child[0].child.extend([new_node('K'), new_node('J')]) \n",
    "    root.child[2].child.append(new_node('G')) \n",
    "    root.child[3].child.extend([new_node('C'), new_node('H'), new_node('I')]) \n",
    "    root.child[0].child[0].child.extend([new_node('N'), new_node('M')]) \n",
    "    root.child[3].child[2].child.append(new_node('L')) \n",
    "    \n",
    "    print(depth_of_tree(root))"
   ]
  },
  {
   "cell_type": "markdown",
   "metadata": {},
   "source": [
    "## Mirroring of the n ary tree\n"
   ]
  },
  {
   "cell_type": "code",
   "execution_count": 5,
   "metadata": {},
   "outputs": [
    {
     "name": "stdout",
     "output_type": "stream",
     "text": [
      "plevel order traversal before mirroring\n",
      "10 "
     ]
    },
    {
     "ename": "IndexError",
     "evalue": "list index out of range",
     "output_type": "error",
     "traceback": [
      "\u001b[1;31m---------------------------------------------------------------------------\u001b[0m",
      "\u001b[1;31mIndexError\u001b[0m                                Traceback (most recent call last)",
      "Cell \u001b[1;32mIn[5], line 51\u001b[0m\n\u001b[0;32m     48\u001b[0m root\u001b[38;5;241m.\u001b[39mchild[\u001b[38;5;241m3\u001b[39m]\u001b[38;5;241m.\u001b[39mchild\u001b[38;5;241m.\u001b[39mappend(Node(\u001b[38;5;241m9\u001b[39m))\n\u001b[0;32m     50\u001b[0m \u001b[38;5;28mprint\u001b[39m(\u001b[38;5;124m\"\u001b[39m\u001b[38;5;124mplevel order traversal before mirroring\u001b[39m\u001b[38;5;124m\"\u001b[39m)\n\u001b[1;32m---> 51\u001b[0m \u001b[43mprintNodeLevelWise\u001b[49m\u001b[43m(\u001b[49m\u001b[43mroot\u001b[49m\u001b[43m)\u001b[49m\n\u001b[0;32m     53\u001b[0m mirrortree(root)\n",
      "Cell \u001b[1;32mIn[5], line 29\u001b[0m, in \u001b[0;36mprintNodeLevelWise\u001b[1;34m(root)\u001b[0m\n\u001b[0;32m     27\u001b[0m n \u001b[38;5;241m=\u001b[39m \u001b[38;5;28mlen\u001b[39m(queue)\n\u001b[0;32m     28\u001b[0m \u001b[38;5;28;01mwhile\u001b[39;00m(n\u001b[38;5;241m>\u001b[39m\u001b[38;5;241m0\u001b[39m):\n\u001b[1;32m---> 29\u001b[0m     p \u001b[38;5;241m=\u001b[39m \u001b[43mqueue\u001b[49m\u001b[43m[\u001b[49m\u001b[38;5;241;43m0\u001b[39;49m\u001b[43m]\u001b[49m\n\u001b[0;32m     30\u001b[0m     queue\u001b[38;5;241m.\u001b[39mpop(\u001b[38;5;241m0\u001b[39m)\n\u001b[0;32m     31\u001b[0m     \u001b[38;5;28mprint\u001b[39m(p\u001b[38;5;241m.\u001b[39mkey,end\u001b[38;5;241m=\u001b[39m\u001b[38;5;124m\"\u001b[39m\u001b[38;5;124m \u001b[39m\u001b[38;5;124m\"\u001b[39m)\n",
      "\u001b[1;31mIndexError\u001b[0m: list index out of range"
     ]
    }
   ],
   "source": [
    "class Node:\n",
    "    def __init__(self, key):\n",
    "        self.key = key\n",
    "        self.child = []\n",
    "        \n",
    "def mirrortree(root):\n",
    "    if root is None:\n",
    "        return \n",
    "    \n",
    "    n = len(root.child)\n",
    "    if n<2:\n",
    "        return \n",
    "    \n",
    "    for i in range(n):\n",
    "        mirrortree(root.child[i])\n",
    "        \n",
    "    root.child.reverse()\n",
    "    \n",
    "def printNodeLevelWise(root):\n",
    "    if root is None:\n",
    "        return \n",
    "    \n",
    "    queue = []\n",
    "    queue.append(root)\n",
    "    \n",
    "    while(len(queue) > 0):\n",
    "        n = len(queue)\n",
    "        while(n>0):\n",
    "            p = queue[0]\n",
    "            queue.pop(0)\n",
    "            print(p.key,end=\" \")\n",
    "            \n",
    "        for index, value in enumerate(p.child):\n",
    "            queue.append(value)\n",
    "            \n",
    "        n-=1\n",
    "    print()\n",
    "    \n",
    "\n",
    "root = Node(10)\n",
    "root.child.append(Node(2))\n",
    "root.child.append(Node(34))\n",
    "root.child.append(Node(56))\n",
    "root.child.append(Node(100))\n",
    "root.child[2].child.append(Node(1))\n",
    "root.child[3].child.append(Node(7))\n",
    "root.child[3].child.append(Node(8))\n",
    "root.child[3].child.append(Node(9))\n",
    "\n",
    "print(\"plevel order traversal before mirroring\")\n",
    "printNodeLevelWise(root)\n",
    "\n",
    "mirrortree(root)"
   ]
  },
  {
   "cell_type": "code",
   "execution_count": null,
   "metadata": {},
   "outputs": [],
   "source": []
  }
 ],
 "metadata": {
  "kernelspec": {
   "display_name": "myenv",
   "language": "python",
   "name": "python3"
  },
  "language_info": {
   "codemirror_mode": {
    "name": "ipython",
    "version": 3
   },
   "file_extension": ".py",
   "mimetype": "text/x-python",
   "name": "python",
   "nbconvert_exporter": "python",
   "pygments_lexer": "ipython3",
   "version": "3.10.14"
  }
 },
 "nbformat": 4,
 "nbformat_minor": 2
}
