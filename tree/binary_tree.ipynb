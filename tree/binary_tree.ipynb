{
 "cells": [
  {
   "cell_type": "markdown",
   "metadata": {},
   "source": [
    "# Binary Tree"
   ]
  },
  {
   "cell_type": "markdown",
   "metadata": {},
   "source": [
    "### Initialization"
   ]
  },
  {
   "cell_type": "code",
   "execution_count": 1,
   "metadata": {},
   "outputs": [],
   "source": [
    "class Node:\n",
    "    def __init__(self,data):\n",
    "        self.data = data\n",
    "        self.left = None\n",
    "        self.right = None\n",
    "        \n",
    "firstNode = Node(2)\n",
    "secNode = Node(3)\n",
    "thirdNode = Node(4)\n",
    "fourthNode = Node(5)\n",
    "\n",
    "firstNode.left = secNode\n",
    "firstNode.right = thirdNode\n",
    "secNode.left = fourthNode\n"
   ]
  },
  {
   "cell_type": "markdown",
   "metadata": {},
   "source": [
    "### Traversal "
   ]
  },
  {
   "cell_type": "code",
   "execution_count": 3,
   "metadata": {},
   "outputs": [
    {
     "name": "stdout",
     "output_type": "stream",
     "text": [
      "In-order DFS: 2 3 5 4 \n",
      "Pre-order DFS: 5 3 2 4 \n",
      "Post-order DFS: 5 3 4 2 \n",
      "Level order: 2 3 4 5 "
     ]
    }
   ],
   "source": [
    "class Node:\n",
    "    def __init__(self, data):\n",
    "        self.data = data\n",
    "        self.left = None\n",
    "        self.right = None\n",
    "        \n",
    "def pre_order(node):\n",
    "    if node is None:\n",
    "        return \n",
    "    print(node.data, end=\" \")\n",
    "    pre_order(node.left)\n",
    "    pre_order(node.right)\n",
    "    \n",
    "def in_order(node):\n",
    "    if node is None:\n",
    "        return \n",
    "    in_order(node.left)\n",
    "    print(node.data,end=\" \")\n",
    "    in_order(node.right)\n",
    "    \n",
    "def post_order(node):\n",
    "    if node is None:\n",
    "        return \n",
    "    post_order(node.left)\n",
    "    post_order(node.right)\n",
    "    print(node.data,end= \" \")\n",
    "    \n",
    "def level_order(root):\n",
    "    if root is None:\n",
    "        return \n",
    "    queue = [root]\n",
    "    while queue:\n",
    "        node = queue.pop(0)\n",
    "        print(node.data,end=\" \")\n",
    "        if node.left:\n",
    "            queue.append(node.left)\n",
    "            \n",
    "        if node.right:\n",
    "            queue.append(node.right)\n",
    "    \n",
    "    \n",
    "if __name__ == \"__main__\":\n",
    "    root = Node(2)\n",
    "    root.left = Node(3)\n",
    "    root.right = Node(4)\n",
    "    root.left.left = Node(5)\n",
    "    \n",
    "    print(\"In-order DFS: \", end='')\n",
    "    pre_order(root)\n",
    "    print(\"\\nPre-order DFS: \", end='')\n",
    "    in_order(root)\n",
    "    print(\"\\nPost-order DFS: \", end='')\n",
    "    post_order(root)\n",
    "    print(\"\\nLevel order: \", end='')\n",
    "    level_order(root)\n",
    "    \n"
   ]
  },
  {
   "cell_type": "markdown",
   "metadata": {},
   "source": [
    "### Insertion "
   ]
  },
  {
   "cell_type": "code",
   "execution_count": 4,
   "metadata": {},
   "outputs": [
    {
     "name": "stdout",
     "output_type": "stream",
     "text": [
      "inorder traversal before insertion: 5 3 2 4 \n",
      "inoredr traversal afetr insertion: 5 3 6 2 4 \n"
     ]
    }
   ],
   "source": [
    "from collections import deque\n",
    "\n",
    "class Node:\n",
    "    def __init__(self, data):\n",
    "        self.data = data\n",
    "        self.left = None\n",
    "        self.right = None\n",
    "        \n",
    "def insert(root,key):\n",
    "    if root is None:\n",
    "        return Node(key)\n",
    "    queue = deque([root])\n",
    "    \n",
    "    while queue:\n",
    "        temp = queue.popleft()\n",
    "        \n",
    "        if temp.left is None:\n",
    "            temp.left = Node(key)\n",
    "            break\n",
    "        else:\n",
    "            queue.append(temp.left)\n",
    "            \n",
    "        if temp.right is None:\n",
    "            temp.right = Node(key)\n",
    "            break\n",
    "        else:\n",
    "            queue.append(temp.right)\n",
    "            \n",
    "    return root\n",
    "\n",
    "def inorder(root):\n",
    "    if root is None:\n",
    "        return \n",
    "    inorder(root.left)\n",
    "    print(root.data, end=\" \")\n",
    "    inorder(root.right)\n",
    "    \n",
    "if __name__ == \"__main__\":\n",
    "    root = Node(2)\n",
    "    root.left = Node(3)\n",
    "    root.right = Node(4)\n",
    "    root.left.left = Node(5)\n",
    "    \n",
    "    print(\"inorder traversal before insertion: \",end=\"\")\n",
    "    inorder(root)\n",
    "    print()\n",
    "    \n",
    "    key = 6\n",
    "    root = insert(root,key)\n",
    "    print(\"inoredr traversal afetr insertion: \",end=\"\")\n",
    "    inorder(root)\n",
    "    print()    "
   ]
  },
  {
   "cell_type": "markdown",
   "metadata": {},
   "source": [
    "### Searching "
   ]
  },
  {
   "cell_type": "code",
   "execution_count": 6,
   "metadata": {},
   "outputs": [
    {
     "name": "stdout",
     "output_type": "stream",
     "text": [
      "7 is not found in the binary tree\n"
     ]
    }
   ],
   "source": [
    "class Node:\n",
    "    def __init__(self,data):\n",
    "        self.data = data\n",
    "        self.left = None\n",
    "        self.right = None\n",
    "        \n",
    "def searchDFS(root,value):\n",
    "    if root is None:\n",
    "        return False\n",
    "    if root.data == value:\n",
    "        return True\n",
    "    \n",
    "    left_res = searchDFS(root.left,value)\n",
    "    right_res = searchDFS(root.right,value)\n",
    "    \n",
    "    return left_res or right_res\n",
    "\n",
    "if __name__ == \"__main__\":\n",
    "    root = Node(2)\n",
    "    root.left = Node(3)\n",
    "    root.right =Node(4)\n",
    "    root.left.left = Node(5)\n",
    "    root.left.right = Node(6)\n",
    "    \n",
    "    value = 7\n",
    "    if searchDFS(root,value):\n",
    "        print(value,\"is found in the tree\")\n",
    "    else:\n",
    "        print(value,\"is not found in the binary tree\")\n",
    "    "
   ]
  },
  {
   "cell_type": "markdown",
   "metadata": {},
   "source": [
    "### deletion"
   ]
  },
  {
   "cell_type": "code",
   "execution_count": 7,
   "metadata": {},
   "outputs": [
    {
     "name": "stdout",
     "output_type": "stream",
     "text": [
      "Original tree (in-order): 5 3 6 2 4 \n",
      "tree after deleting 3 (in-order): 5 6 2 4 \n"
     ]
    }
   ],
   "source": [
    "from collections import deque\n",
    "\n",
    "class Node:\n",
    "    def __init__(self,data):\n",
    "        self.data = data\n",
    "        self.left = None\n",
    "        self.right = None\n",
    "    \n",
    "def deleteNode(root,val):\n",
    "    if root is None:\n",
    "        return None\n",
    "    \n",
    "    queue = deque([root])\n",
    "    target = None\n",
    "    \n",
    "    while queue:\n",
    "        curr = queue.popleft()\n",
    "        \n",
    "        if curr.data == val:\n",
    "            target = curr\n",
    "            break\n",
    "        if curr.left:\n",
    "            queue.append(curr.left)\n",
    "        if curr.right:\n",
    "            queue.append(curr.right)\n",
    "        \n",
    "    if target is None:\n",
    "        return root\n",
    "    \n",
    "    last_node = None\n",
    "    last_parent = None\n",
    "    queue = deque([(root,None)])\n",
    "    while queue:\n",
    "        curr, parent = queue.popleft()\n",
    "        last_node = curr\n",
    "        last_parent = parent\n",
    "        \n",
    "        if curr.left:\n",
    "            queue.append((curr.left,curr))\n",
    "        if curr.right:\n",
    "            queue.append((curr.right,curr))\n",
    "            \n",
    "    target.data = last_node.data\n",
    "    if last_parent:\n",
    "        if last_parent.left == last_node:\n",
    "            last_parent.left = None\n",
    "        else:\n",
    "            last_parent.right= None\n",
    "            \n",
    "    else:\n",
    "        return None\n",
    "    return root\n",
    "\n",
    "def inorder(root):\n",
    "    if root is None:\n",
    "        return \n",
    "    inorder(root.left)\n",
    "    print(root.data, end= \" \")\n",
    "    inorder(root.right)\n",
    "    \n",
    "if __name__ == \"__main__\":\n",
    "    root = Node(2)\n",
    "    root.left = Node(3)\n",
    "    root.right = Node(4)\n",
    "    root.left.left = Node(5)\n",
    "    root.left.right = Node(6)\n",
    "    \n",
    "    print(\"Original tree (in-order): \",end=\"\")\n",
    "    inorder(root)\n",
    "    print()\n",
    "    \n",
    "    val_to_del = 3\n",
    "    root = deleteNode(root,val_to_del)\n",
    "    \n",
    "    print(f\"tree after deleting {val_to_del} (in-order): \",end = \"\")\n",
    "    inorder(root)\n",
    "    print()"
   ]
  },
  {
   "cell_type": "code",
   "execution_count": null,
   "metadata": {},
   "outputs": [],
   "source": []
  }
 ],
 "metadata": {
  "kernelspec": {
   "display_name": "myenv",
   "language": "python",
   "name": "python3"
  },
  "language_info": {
   "codemirror_mode": {
    "name": "ipython",
    "version": 3
   },
   "file_extension": ".py",
   "mimetype": "text/x-python",
   "name": "python",
   "nbconvert_exporter": "python",
   "pygments_lexer": "ipython3",
   "version": "3.10.14"
  }
 },
 "nbformat": 4,
 "nbformat_minor": 2
}
