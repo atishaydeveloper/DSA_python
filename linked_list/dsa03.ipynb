{
 "cells": [
  {
   "cell_type": "markdown",
   "metadata": {},
   "source": [
    "## Linked List"
   ]
  },
  {
   "cell_type": "code",
   "execution_count": 2,
   "metadata": {},
   "outputs": [],
   "source": [
    "# singly linked list\n",
    "class Node:\n",
    "    def __init__(self,new_data):\n",
    "        self.data = new_data\n",
    "        self.next = None"
   ]
  },
  {
   "cell_type": "markdown",
   "metadata": {},
   "source": [
    "### insertion"
   ]
  },
  {
   "cell_type": "code",
   "execution_count": 3,
   "metadata": {},
   "outputs": [
    {
     "name": "stdout",
     "output_type": "stream",
     "text": [
      "original linked list:2345\n",
      "After inserting nodes at the front:12345\n"
     ]
    }
   ],
   "source": [
    "# at beginning \n",
    "class Node:\n",
    "    def __init__(self,new_data):\n",
    "        self.data = new_data\n",
    "        self.next = None\n",
    "        \n",
    "def insert_at_front(head,new_data):\n",
    "    new_node = Node(new_data)\n",
    "    new_node.next = head\n",
    "    return new_node\n",
    "\n",
    "def print_list(head):\n",
    "    curr = head\n",
    "    while curr is not None:\n",
    "        print(f\"{curr.data}\",end=\"\")\n",
    "        curr = curr.next \n",
    "    print()\n",
    "    \n",
    "if __name__ == \"__main__\":\n",
    "    head = Node(2)\n",
    "    head.next = Node(3)\n",
    "    head.next.next = Node(4)\n",
    "    head.next.next.next = Node(5)\n",
    "    \n",
    "    print(\"original linked list:\", end =\"\")\n",
    "    print_list(head)\n",
    "    \n",
    "    #insertion at front\n",
    "    \n",
    "    print(\"After inserting nodes at the front:\",end =\"\")\n",
    "    data = 1\n",
    "    head = insert_at_front(head,data)\n",
    "    \n",
    "    print_list(head)"
   ]
  },
  {
   "cell_type": "code",
   "execution_count": 5,
   "metadata": {},
   "outputs": [
    {
     "name": "stdout",
     "output_type": "stream",
     "text": [
      "Original Linked list: 2356\n",
      "linked list after insertion: 23456\n"
     ]
    }
   ],
   "source": [
    "# insertion at a specific node\n",
    "class Node:\n",
    "    def __init__(self,data):\n",
    "        self.data= data\n",
    "        self.next = None\n",
    "\n",
    "def insertAfter(head,key,new_data):\n",
    "    curr = head\n",
    "    while curr is not None:\n",
    "        if curr.data == key:\n",
    "            break\n",
    "        curr = curr.next\n",
    "    \n",
    "    if curr is None:\n",
    "        return head\n",
    "    \n",
    "    newNode = Node(new_data)\n",
    "    newNode.next = curr.next\n",
    "    curr.next = newNode\n",
    "    return head\n",
    "\n",
    "def printlist(node):\n",
    "    while node is not None:\n",
    "        print(node.data,end=\"\")\n",
    "        node = node.next\n",
    "    print()\n",
    "    \n",
    "if __name__ == \"__main__\":\n",
    "    head = Node(2)\n",
    "    head.next = Node(3)\n",
    "    head.next.next = Node(5)\n",
    "    head.next.next.next = Node(6)\n",
    "    \n",
    "    print(\"Original Linked list: \",end=\"\")\n",
    "    printlist(head)\n",
    "    \n",
    "    key = 3\n",
    "    new_data = 4\n",
    "    head = insertAfter(head,key,new_data)\n",
    "    \n",
    "    print(\"linked list after insertion: \",end=\"\")\n",
    "    printlist(head)"
   ]
  },
  {
   "cell_type": "code",
   "execution_count": 3,
   "metadata": {},
   "outputs": [
    {
     "name": "stdout",
     "output_type": "stream",
     "text": [
      "linked list before insertion: 35810\n",
      "linked list after insertion of 12 at position 2: 3125810\n"
     ]
    }
   ],
   "source": [
    "# inserting at a specific position\n",
    "class Node:\n",
    "    def __init__(self,data):\n",
    "        self.data = data\n",
    "        self.next = None\n",
    "\n",
    "def insert_at_position(head,position, data):\n",
    "    new_node = Node(data)\n",
    "    \n",
    "    if position == 1:\n",
    "        new_node.next = head\n",
    "        head = new_node\n",
    "        return head\n",
    "    \n",
    "    current = head\n",
    "    for _ in range(1,position-1):\n",
    "        if current is None:\n",
    "            break\n",
    "        current = current.next\n",
    "    \n",
    "    if current is None:\n",
    "        print(\"position out of bounds.\")\n",
    "        return head\n",
    "    \n",
    "    new_node.next = current.next\n",
    "    current.next = new_node\n",
    "    return head\n",
    "\n",
    "def print_list(head):\n",
    "    while head is not None:\n",
    "        print(f\"{head.data}\",end=\"\")\n",
    "        head = head.next\n",
    "    print()\n",
    "\n",
    "if __name__ == \"__main__\":\n",
    "    head = Node(3)\n",
    "    head.next = Node(5)\n",
    "    head.next.next = Node(8)\n",
    "    head.next.next.next = Node(10)\n",
    "    \n",
    "    print(\"linked list before insertion: \",end=\"\")\n",
    "    print_list(head)        \n",
    "    \n",
    "    data,pos = 12,2\n",
    "    head = insert_at_position(head,pos,data)\n",
    "    print(f\"linked list after insertion of 12 at position {pos}: \",end=\"\")\n",
    "    print_list(head)"
   ]
  },
  {
   "cell_type": "code",
   "execution_count": 5,
   "metadata": {},
   "outputs": [
    {
     "name": "stdout",
     "output_type": "stream",
     "text": [
      "created linked list is:23456\n",
      "after insertion at the end: 234567\n"
     ]
    }
   ],
   "source": [
    "# insertion at the end\n",
    "class Node:\n",
    "    def __init__(self,data):\n",
    "        self.data= data\n",
    "        self.next = None\n",
    "\n",
    "def insert_at_end(head,data):\n",
    "    new_node = Node(data)\n",
    "    \n",
    "   \n",
    "    if head is None:\n",
    "        return new_node\n",
    "    \n",
    "    last = head\n",
    "    while last.next:\n",
    "        last = last.next\n",
    "    last.next = new_node\n",
    "    \n",
    "    return head\n",
    "\n",
    "def print_list(head):\n",
    "    while head is not None:\n",
    "        print(head.data,end=\"\")\n",
    "        head = head.next\n",
    "    print()\n",
    "    \n",
    "if __name__ == \"__main__\":\n",
    "    head = Node(2)\n",
    "    head.next = Node(3)\n",
    "    head.next.next = Node(4)\n",
    "    head.next.next.next = Node(5)\n",
    "    head.next.next.next.next = Node(6)\n",
    "    \n",
    "    print(\"created linked list is:\",end=\"\")\n",
    "    print_list(head)\n",
    "    \n",
    "    head = insert_at_end(head,7)\n",
    "    print(\"after insertion at the end: \",end=\"\")\n",
    "    print_list(head)\n",
    "        \n",
    "\n",
    "        "
   ]
  },
  {
   "cell_type": "markdown",
   "metadata": {},
   "source": [
    "## deletion in singly linked list"
   ]
  },
  {
   "cell_type": "code",
   "execution_count": 9,
   "metadata": {},
   "outputs": [
    {
     "name": "stdout",
     "output_type": "stream",
     "text": [
      "original list: 12345\n",
      "List after deleting the head: 2345\n"
     ]
    }
   ],
   "source": [
    "#deletion at the beginning \n",
    "\n",
    "class Node:\n",
    "    def __init__(self,data):\n",
    "        self.data = data\n",
    "        self.next = None\n",
    "        \n",
    "def delete_head(head):\n",
    "    if head is None:\n",
    "        return None\n",
    "    \n",
    "    temp = head\n",
    "    head = head.next\n",
    "    \n",
    "    del temp\n",
    "    \n",
    "    return head\n",
    "\n",
    "def print_list(head):\n",
    "    while head is not None:\n",
    "        print(head.data,end=\"\")\n",
    "        head = head.next\n",
    "    print()\n",
    "\n",
    "if __name__ == \"__main__\":\n",
    "    head = Node(1)\n",
    "    head.next = Node(2)\n",
    "    head.next.next = Node(3)\n",
    "    head.next.next.next = Node(4)\n",
    "    head.next.next.next.next = Node(5)\n",
    "    \n",
    "    print(\"original list: \",end=\"\")\n",
    "    print_list(head)\n",
    "    \n",
    "    head = delete_head(head)\n",
    "    print(\"List after deleting the head: \",end=\"\")\n",
    "    print_list(head)"
   ]
  },
  {
   "cell_type": "code",
   "execution_count": 12,
   "metadata": {},
   "outputs": [
    {
     "name": "stdout",
     "output_type": "stream",
     "text": [
      "Original list: 1 -> 2 -> 3 -> 4 -> 5 -> None\n",
      "list after deletion: 1 -> 3 -> 4 -> 5 -> None\n"
     ]
    }
   ],
   "source": [
    "#deletion at the middle\n",
    "class Node:\n",
    "    def __init__(self,data):\n",
    "        self.data = data\n",
    "        self.next = None\n",
    "        \n",
    "def deletenode(head,position):\n",
    "    temp = head\n",
    "    prev = None\n",
    "    \n",
    "    if temp is None:\n",
    "        return head\n",
    "    \n",
    "    if position == 1:\n",
    "        head = temp.next\n",
    "        return head\n",
    "    \n",
    "    for i in range(1,position):\n",
    "        prev = temp\n",
    "        temp = temp.next\n",
    "        if temp is None:\n",
    "            print(\"Data not present\")\n",
    "            return head\n",
    "        \n",
    "    if temp is not None:\n",
    "        prev.next = temp.next\n",
    "    return head\n",
    "\n",
    "def print_list(head):\n",
    "    while head is not None:\n",
    "        print(f\"{head.data} -> \",end=\"\")\n",
    "        head = head.next\n",
    "    print(\"None\")\n",
    "\n",
    "if __name__ == \"__main__\":\n",
    "    head = Node(1)\n",
    "    head.next = Node(2)\n",
    "    head.next.next = Node(3)\n",
    "    head.next.next.next = Node(4)\n",
    "    head.next.next.next.next = Node(5)\n",
    "    \n",
    "    print(\"Original list: \",end=\"\")\n",
    "    print_list(head)\n",
    "    \n",
    "    position = 2\n",
    "    head = deletenode(head,position)\n",
    "    \n",
    "    print(\"list after deletion: \",end=\"\")\n",
    "    print_list(head)\n",
    "        \n",
    "    \n",
    "    "
   ]
  },
  {
   "cell_type": "code",
   "execution_count": 15,
   "metadata": {},
   "outputs": [
    {
     "name": "stdout",
     "output_type": "stream",
     "text": [
      "before deletion: 12345\n",
      "after deletion: 1234\n"
     ]
    }
   ],
   "source": [
    "# deltion at the end\n",
    "class Node:\n",
    "    def __init__(self,data):\n",
    "        self.data = data\n",
    "        self.next = None\n",
    "        \n",
    "def deletend(head):\n",
    "    if head is None:\n",
    "        return head\n",
    "    \n",
    "    if not head.next:\n",
    "        return None\n",
    "    \n",
    "    sec_last = head\n",
    "    while sec_last.next.next:\n",
    "        sec_last = sec_last.next\n",
    "    \n",
    "    sec_last.next = None\n",
    "    \n",
    "    return head\n",
    "\n",
    "def print_list(head):\n",
    "    while head is not None:\n",
    "        print(head.data,end=\"\")\n",
    "        head = head.next\n",
    "    print()\n",
    "    \n",
    "if __name__ == \"__main__\":\n",
    "    head = Node(1)\n",
    "    head.next = Node(2)\n",
    "    head.next.next = Node(3)\n",
    "    head.next.next.next = Node(4)\n",
    "    head.next.next.next.next = Node(5)\n",
    "    \n",
    "    print(\"before deletion: \",end=\"\")\n",
    "    print_list(head)\n",
    "    \n",
    "    head = deletend(head)\n",
    "    print(\"after deletion: \",end=\"\")\n",
    "    print_list(head)\n",
    "\n",
    "    \n",
    "    "
   ]
  },
  {
   "cell_type": "code",
   "execution_count": null,
   "metadata": {},
   "outputs": [],
   "source": []
  }
 ],
 "metadata": {
  "kernelspec": {
   "display_name": "myenv",
   "language": "python",
   "name": "python3"
  },
  "language_info": {
   "codemirror_mode": {
    "name": "ipython",
    "version": 3
   },
   "file_extension": ".py",
   "mimetype": "text/x-python",
   "name": "python",
   "nbconvert_exporter": "python",
   "pygments_lexer": "ipython3",
   "version": "3.10.14"
  }
 },
 "nbformat": 4,
 "nbformat_minor": 2
}
