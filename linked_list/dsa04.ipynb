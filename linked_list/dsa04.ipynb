{
 "cells": [
  {
   "cell_type": "markdown",
   "metadata": {},
   "source": [
    "# Doubly Linked List"
   ]
  },
  {
   "cell_type": "code",
   "execution_count": 1,
   "metadata": {},
   "outputs": [],
   "source": [
    "class Node:\n",
    "    def __init__(self,data):\n",
    "        self.data = data\n",
    "        self.next = None\n",
    "        self.prev = None"
   ]
  },
  {
   "cell_type": "markdown",
   "metadata": {},
   "source": [
    "### Traversal"
   ]
  },
  {
   "cell_type": "code",
   "execution_count": 2,
   "metadata": {},
   "outputs": [
    {
     "name": "stdout",
     "output_type": "stream",
     "text": [
      "forward traversal: \n",
      "123\n",
      "backward traversal: \n",
      "321\n"
     ]
    }
   ],
   "source": [
    "# Forward traversal\n",
    "class Node:\n",
    "    def __init__(self,data):\n",
    "        self.data = data\n",
    "        self.next = None\n",
    "        self.prev = None\n",
    "        \n",
    "def forward_traversal(head):\n",
    "    curr = head\n",
    "    while curr is not None:\n",
    "        print(curr.data,end=\"\")\n",
    "        curr = curr.next\n",
    "    print()\n",
    "    \n",
    "def backward_traversal(tail):\n",
    "    curr = tail\n",
    "    while curr is not None:\n",
    "        print(curr.data,end=\"\")\n",
    "        curr = curr.prev\n",
    "    print()\n",
    "\n",
    "if __name__ == \"__main__\":\n",
    "    head = Node(1)\n",
    "    second = Node(2)\n",
    "    third = Node(3)\n",
    "    \n",
    "    head.next = second\n",
    "    second.prev = head\n",
    "    second.next = third\n",
    "    third.prev = second\n",
    "    \n",
    "    print(\"forward traversal: \")\n",
    "    forward_traversal(head)\n",
    "    \n",
    "    print(\"backward traversal: \")\n",
    "    backward_traversal(third)"
   ]
  },
  {
   "cell_type": "markdown",
   "metadata": {},
   "source": [
    "### Length of traversal\n"
   ]
  },
  {
   "cell_type": "code",
   "execution_count": 4,
   "metadata": {},
   "outputs": [
    {
     "name": "stdout",
     "output_type": "stream",
     "text": [
      "Length of the doubly linked list: 3\n"
     ]
    }
   ],
   "source": [
    "class Node:\n",
    "    def __init__(self,data):\n",
    "        self.data = data\n",
    "        self.next = None\n",
    "        self.prev = None\n",
    "    \n",
    "def find_length(head):\n",
    "    count = 0\n",
    "    cur = head\n",
    "    while cur is not None:\n",
    "        count+=1\n",
    "        cur = cur.next\n",
    "    return count\n",
    "\n",
    "if __name__ == \"__main__\":\n",
    "    head = Node(1)\n",
    "    second = Node(2)\n",
    "    third = Node(3)\n",
    "    \n",
    "    head.next = second\n",
    "    second.prev = head\n",
    "    second.next = third\n",
    "    third.prev = second\n",
    "    \n",
    "    print(\"Length of the doubly linked list: \"+ str(find_length(head)))\n",
    "    "
   ]
  },
  {
   "cell_type": "markdown",
   "metadata": {},
   "source": [
    "### Insertion "
   ]
  },
  {
   "cell_type": "code",
   "execution_count": 8,
   "metadata": {},
   "outputs": [
    {
     "name": "stdout",
     "output_type": "stream",
     "text": [
      "befor insertion: 123\n",
      "after insertion: 0123\n"
     ]
    }
   ],
   "source": [
    "# at the beginning \n",
    "class Node:\n",
    "    def __init__(self,data):\n",
    "        self.data = data\n",
    "        self.next = None\n",
    "        self.prev = None\n",
    "        \n",
    "def at_beginn(head,data):\n",
    "    new_node = Node(data)\n",
    "    if head is None:\n",
    "        return head\n",
    "    new_node.next = head\n",
    "    head.prev = new_node\n",
    "    head = new_node\n",
    "    return head\n",
    "\n",
    "def print_list(head):\n",
    "    while head is not None:\n",
    "        print(head.data,end=\"\")\n",
    "        head = head.next\n",
    "    print()\n",
    "    \n",
    "if __name__ == \"__main__\":\n",
    "    head = Node(1)\n",
    "    second = Node(2)\n",
    "    thrid = Node(3)\n",
    "    \n",
    "    head.next = second\n",
    "    second.prev = head\n",
    "    second.next = thrid\n",
    "    third.prev = second\n",
    "    \n",
    "    print(\"befor insertion: \",end=\"\")\n",
    "    print_list(head)\n",
    "    \n",
    "    head = at_beginn(head,0)\n",
    "    \n",
    "    print(\"after insertion: \",end=\"\")\n",
    "    print_list(head)\n"
   ]
  },
  {
   "cell_type": "code",
   "execution_count": 12,
   "metadata": {},
   "outputs": [
    {
     "name": "stdout",
     "output_type": "stream",
     "text": [
      "before insertion: 123\n",
      "after insertion: 1234\n"
     ]
    }
   ],
   "source": [
    "# insertion at the end\n",
    "class Node:\n",
    "    def __init__(self,data):\n",
    "        self.data = data\n",
    "        self.next = None\n",
    "        self.prev = None\n",
    "        \n",
    "def at_end(head,data):\n",
    "    new_node = Node(data)\n",
    "    if head is None:\n",
    "        head = new_node\n",
    "    else: \n",
    "        curr = head\n",
    "        while curr.next is not None:\n",
    "            curr = curr.next\n",
    "        \n",
    "        curr.next = new_node\n",
    "        new_node.prev = curr\n",
    "    \n",
    "    \n",
    "    return head\n",
    "\n",
    "def print_list(head):\n",
    "    while head is not None:\n",
    "        print(head.data,end=\"\")\n",
    "        head = head.next\n",
    "    print()\n",
    "    \n",
    "if __name__ == \"__main__\":\n",
    "    head = Node(1)\n",
    "    second = Node(2)\n",
    "    third = Node(3)\n",
    "    \n",
    "    head.next = second\n",
    "    second.prev = head\n",
    "    second.next = third\n",
    "    third.prev = second\n",
    "    \n",
    "    print(\"before insertion: \",end=\"\")\n",
    "    print_list(head)\n",
    "    \n",
    "    head = at_end(head,4)\n",
    "    print(\"after insertion: \",end=\"\")\n",
    "    print_list(head)\n",
    "     "
   ]
  },
  {
   "cell_type": "code",
   "execution_count": 16,
   "metadata": {},
   "outputs": [
    {
     "name": "stdout",
     "output_type": "stream",
     "text": [
      "before insertion: 124\n",
      "after insertion: 1234\n"
     ]
    }
   ],
   "source": [
    "# insertion at specific position\n",
    "class Node:\n",
    "    def __init__(self,data):\n",
    "        self.data =data\n",
    "        self.next = None\n",
    "        self.prev = None\n",
    "    \n",
    "def at_spec(head,pos,data):\n",
    "    if pos == 1:\n",
    "        new_node = Node(data)\n",
    "        new_node.next = head\n",
    "        if head is not None:\n",
    "            head.prev = new_node\n",
    "        head = new_node\n",
    "        return head\n",
    "    curr = head\n",
    "    new_node = Node(data)\n",
    "    for i in range(1,pos-1):\n",
    "        \n",
    "        if curr is None:\n",
    "            print(\"Position is out of bounds.\")\n",
    "            return head\n",
    "        curr = curr.next\n",
    "        \n",
    "    if curr is None:\n",
    "        print(\"position is out of bounds.\")\n",
    "        return head\n",
    "        \n",
    "    \n",
    "    new_node.prev = curr\n",
    "    new_node.next = curr.next\n",
    "    curr.next = new_node\n",
    "    \n",
    "    if new_node.next is not None:\n",
    "        new_node.next.prev = new_node\n",
    "    \n",
    "    return head\n",
    "\n",
    "def print_list(head):\n",
    "    curr = head\n",
    "    while curr is not None:\n",
    "        print(curr.data,end=\"\")\n",
    "        curr = curr.next\n",
    "    print()\n",
    "    \n",
    "if __name__ == \"__main__\":\n",
    "    head = Node(1)\n",
    "    second = Node(2)\n",
    "    third = Node(4)\n",
    "    \n",
    "    head.next = second\n",
    "    second.prev = head\n",
    "    second.next = third\n",
    "    third.prev = second\n",
    "    \n",
    "    print(\"before insertion: \",end=\"\")\n",
    "    print_list(head)\n",
    "    \n",
    "    head = at_spec(head,3,3)\n",
    "    print(\"after insertion: \",end=\"\")\n",
    "    print_list(head)"
   ]
  },
  {
   "cell_type": "markdown",
   "metadata": {},
   "source": [
    "## Deletion"
   ]
  },
  {
   "cell_type": "code",
   "execution_count": 2,
   "metadata": {},
   "outputs": [
    {
     "name": "stdout",
     "output_type": "stream",
     "text": [
      "before deletion: 123\n",
      "after deletion: 23\n"
     ]
    }
   ],
   "source": [
    "# at the beginning\n",
    "class Node:\n",
    "    def __init__(self,data):\n",
    "        self.data = data\n",
    "        self.next = None\n",
    "        self.prev = None\n",
    "        \n",
    "def at_beg(head):\n",
    "    if head is None:\n",
    "        del head\n",
    "        \n",
    "    else:\n",
    "        head = head.next\n",
    "        del head.prev\n",
    "    \n",
    "    return head\n",
    "\n",
    "def print_list(head):\n",
    "    curr = head\n",
    "    while curr is not None:\n",
    "        print(curr.data,end=\"\")\n",
    "        curr = curr.next\n",
    "    print()\n",
    "    \n",
    "if __name__ == \"__main__\":\n",
    "    head = Node(1)\n",
    "    second = Node(2)\n",
    "    third = Node(3)\n",
    "    \n",
    "    head.next = second\n",
    "    second.prev = head\n",
    "    second.next = third\n",
    "    third.prev = second\n",
    "    \n",
    "    print(\"before deletion: \",end=\"\")\n",
    "    print_list(head)\n",
    "    \n",
    "    head = at_beg(head)\n",
    "    \n",
    "    print(\"after deletion: \",end=\"\")\n",
    "    print_list(head)\n",
    "    "
   ]
  },
  {
   "cell_type": "code",
   "execution_count": 7,
   "metadata": {},
   "outputs": [
    {
     "name": "stdout",
     "output_type": "stream",
     "text": [
      "before deletion: 123\n",
      "after deltion: 12\n"
     ]
    }
   ],
   "source": [
    "#at the end\n",
    "class Node:\n",
    "    def __init__(self,data):\n",
    "        self.data = data\n",
    "        self.next = None\n",
    "        self.prev = None\n",
    "\n",
    "def at_end(head):\n",
    "    if head is None:\n",
    "        del head\n",
    "        \n",
    "    if head.next is None:\n",
    "        return None\n",
    "    \n",
    "        \n",
    "    curr = head\n",
    "    while curr.next != None:\n",
    "        curr = curr.next\n",
    "    \n",
    "    if curr.prev is not None:\n",
    "        curr.prev.next = None\n",
    "          \n",
    "    \n",
    "    return head\n",
    "\n",
    "def print_list(head):\n",
    "    curr = head\n",
    "    while curr is not None:\n",
    "        print(curr.data,end=\"\")\n",
    "        curr = curr.next\n",
    "    print()\n",
    "\n",
    "if __name__ == \"__main__\":\n",
    "    head = Node(1)\n",
    "    second = Node(2)\n",
    "    third = Node(3)\n",
    "    \n",
    "    head.next = second\n",
    "    second.prev = head\n",
    "    second.next = third\n",
    "    third.prev = second\n",
    "    \n",
    "    print(\"before deletion: \",end=\"\")\n",
    "    print_list(head)\n",
    "    \n",
    "    head = at_end(head)\n",
    "    \n",
    "    print(\"after deltion: \",end=\"\")\n",
    "    print_list(head)\n",
    "     \n",
    "    \n",
    "    \n",
    "        "
   ]
  },
  {
   "cell_type": "code",
   "execution_count": 8,
   "metadata": {},
   "outputs": [
    {
     "name": "stdout",
     "output_type": "stream",
     "text": [
      "before deletion: 123\n",
      "after deletion: 13\n"
     ]
    }
   ],
   "source": [
    "# at the specific location\n",
    "class Node:\n",
    "    def __init__(self,data):\n",
    "        self.data = data\n",
    "        self.next = None\n",
    "        self.prev = None\n",
    "        \n",
    "def at_pos(head,pos):\n",
    "    if pos == 0:\n",
    "        return head\n",
    "    else:\n",
    "        current = head\n",
    "        for i in range(1,pos-1):\n",
    "            current = current.next\n",
    "            if current is None:\n",
    "                return None\n",
    "        current = current.next\n",
    "        \n",
    "        current.prev.next = current.next\n",
    "        current.next.prev = current.prev\n",
    "    return head\n",
    "\n",
    "def print_list(head):\n",
    "    curr = head\n",
    "    while curr is not None:\n",
    "        print(curr.data,end=\"\")\n",
    "        curr = curr.next\n",
    "    print()\n",
    "    \n",
    "if __name__ == \"__main__\":\n",
    "    head = Node(1)\n",
    "    second = Node(2)\n",
    "    third = Node(3)\n",
    "    \n",
    "    head.next = second\n",
    "    second.prev = head\n",
    "    second.next = third\n",
    "    third.prev = second\n",
    "    \n",
    "    print(\"before deletion: \",end=\"\")\n",
    "    print_list(head)\n",
    "    \n",
    "    head = at_pos(head,2)\n",
    "    print(\"after deletion: \",end=\"\")\n",
    "    print_list(head)"
   ]
  },
  {
   "cell_type": "code",
   "execution_count": null,
   "metadata": {},
   "outputs": [],
   "source": []
  }
 ],
 "metadata": {
  "kernelspec": {
   "display_name": "myenv",
   "language": "python",
   "name": "python3"
  },
  "language_info": {
   "codemirror_mode": {
    "name": "ipython",
    "version": 3
   },
   "file_extension": ".py",
   "mimetype": "text/x-python",
   "name": "python",
   "nbconvert_exporter": "python",
   "pygments_lexer": "ipython3",
   "version": "3.10.14"
  }
 },
 "nbformat": 4,
 "nbformat_minor": 2
}
