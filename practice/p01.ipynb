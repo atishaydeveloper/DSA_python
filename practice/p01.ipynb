{
 "cells": [
  {
   "cell_type": "markdown",
   "metadata": {},
   "source": [
    "# Practikalo de abhyasam"
   ]
  },
  {
   "cell_type": "markdown",
   "metadata": {},
   "source": [
    "## Stack"
   ]
  },
  {
   "cell_type": "code",
   "execution_count": 1,
   "metadata": {},
   "outputs": [
    {
     "name": "stdout",
     "output_type": "stream",
     "text": [
      "10 pushed to stack\n",
      "20 pushed to stack\n",
      "30 pushed to stack\n",
      "Popped element is 30\n",
      "Top element is 20\n"
     ]
    }
   ],
   "source": [
    "class node:\n",
    "    def __init__(self,data):\n",
    "        self.data = data\n",
    "        self.next = None\n",
    "        \n",
    "class Stack:\n",
    "    def __init__(self):\n",
    "        self.root = None\n",
    "        \n",
    "    def push(self,data):\n",
    "        new_node = node(data)\n",
    "        new_node.next = self.root\n",
    "        self.root = new_node\n",
    "        print(\"%d pushed to stack\" %(data))\n",
    "        \n",
    "    def isEmpty(self):\n",
    "        return True if self.root is None else False\n",
    "    \n",
    "    def pop(self):\n",
    "        if (self.isEmpty()):\n",
    "            return float(\"-inf\")\n",
    "        temp = self.root\n",
    "        self.root = self.root.next\n",
    "        popped = temp.data\n",
    "        return popped\n",
    "    \n",
    "    def peek(self):\n",
    "        if self.isEmpty():\n",
    "            return float(\"-inf\")\n",
    "        return self.root.data\n",
    "    \n",
    "stack = Stack()\n",
    "stack.push(10)\n",
    "stack.push(20)\n",
    "stack.push(30)\n",
    "print(\"Popped element is %d\" %(stack.pop()))\n",
    "print(\"Top element is %d\" %(stack.peek()))"
   ]
  },
  {
   "cell_type": "markdown",
   "metadata": {},
   "source": [
    "## Queue\n"
   ]
  },
  {
   "cell_type": "code",
   "execution_count": null,
   "metadata": {},
   "outputs": [],
   "source": [
    "class node:\n",
    "    def __init__(self,data):\n",
    "        self.data=data\n",
    "        self.next=None\n",
    "        \n",
    "class Queue:\n",
    "    def __init__(self):\n",
    "        self.front =None\n",
    "        self.rear = None\n",
    "    \n",
    "    def isEmpty(self):\n",
    "        return self.front is None and self.rear is None\n",
    "        \n",
    "    def enqueue(self,data):\n",
    "        new_node = node(data)\n",
    "        if self.rear is None:\n",
    "            self.front = self.rear = new_node\n",
    "            return\n",
    "        self.rear.next = new_node\n",
    "        self.rear = new_node\n",
    "        \n",
    "    def dequeue(self):\n",
    "        if self.isEmpty():\n",
    "            float(\"-inf\")\n",
    "            return \n",
    "        temp = self.front\n",
    "        self.front = self.front.next\n",
    "        if self.front is None:\n",
    "            self.rear = None\n",
    "            \n",
    "    def get_front(self):\n",
    "        if self.is_empty():\n",
    "            print(\"Queue is empty\")\n",
    "            return\n",
    "        return self.front.data\n",
    "    \n",
    "    def get_rear(self):\n",
    "        if self.is_empty():\n",
    "            print(\"Queue is empty\")\n",
    "            return float(\"-inf\")\n",
    "        return self.rear.data\n",
    "    \n",
    "if __name__ == \"__main__\":\n",
    "    queue = Queue()\n",
    "    queue.enqueue(10)\n",
    "    queue.enqueue(20)\n",
    "    queue.enqueue(30)\n",
    "    queue.enqueue(40)\n",
    "    \n",
    "    # Print the front element\n",
    "    print(\"Front element is:\", queue.get_front())\n",
    "    \n",
    "    # Dequeue an element\n",
    "    queue.dequeue()\n",
    "    \n",
    "    # Print the front element again after dequeue\n",
    "    print(\"Front element after dequeue is:\", queue.get_front())\n",
    "        "
   ]
  }
 ],
 "metadata": {
  "kernelspec": {
   "display_name": "myenv",
   "language": "python",
   "name": "python3"
  },
  "language_info": {
   "codemirror_mode": {
    "name": "ipython",
    "version": 3
   },
   "file_extension": ".py",
   "mimetype": "text/x-python",
   "name": "python",
   "nbconvert_exporter": "python",
   "pygments_lexer": "ipython3",
   "version": "3.10.14"
  }
 },
 "nbformat": 4,
 "nbformat_minor": 2
}
